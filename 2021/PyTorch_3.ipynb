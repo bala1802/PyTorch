{
  "nbformat": 4,
  "nbformat_minor": 0,
  "metadata": {
    "colab": {
      "name": "PyTorch_3.ipynb",
      "provenance": [],
      "collapsed_sections": []
    },
    "kernelspec": {
      "name": "python3",
      "display_name": "Python 3"
    }
  },
  "cells": [
    {
      "cell_type": "markdown",
      "metadata": {
        "id": "SAgVG3sPXybg",
        "colab_type": "text"
      },
      "source": [
        "Backpropogation"
      ]
    },
    {
      "cell_type": "code",
      "metadata": {
        "id": "gyrlkOohX1dw",
        "colab_type": "code",
        "colab": {}
      },
      "source": [
        "import torch"
      ],
      "execution_count": 1,
      "outputs": []
    },
    {
      "cell_type": "code",
      "metadata": {
        "id": "_xMXzfyXX27B",
        "colab_type": "code",
        "colab": {}
      },
      "source": [
        "x = torch.tensor(4.0, requires_grad=True) #requires_grad should be set to True to implement backpropogation"
      ],
      "execution_count": 2,
      "outputs": []
    },
    {
      "cell_type": "code",
      "metadata": {
        "id": "W-4nTG5MYKKV",
        "colab_type": "code",
        "colab": {
          "base_uri": "https://localhost:8080/",
          "height": 34
        },
        "outputId": "5ae156eb-38d5-406d-a052-a1d1b4dcbbd8"
      },
      "source": [
        "x"
      ],
      "execution_count": 3,
      "outputs": [
        {
          "output_type": "execute_result",
          "data": {
            "text/plain": [
              "tensor(4., requires_grad=True)"
            ]
          },
          "metadata": {
            "tags": []
          },
          "execution_count": 3
        }
      ]
    },
    {
      "cell_type": "code",
      "metadata": {
        "id": "WCnuwZzGYLPD",
        "colab_type": "code",
        "colab": {
          "base_uri": "https://localhost:8080/",
          "height": 34
        },
        "outputId": "effa736e-1efb-478d-f08f-414162e026ee"
      },
      "source": [
        "y=x**2\n",
        "y"
      ],
      "execution_count": 4,
      "outputs": [
        {
          "output_type": "execute_result",
          "data": {
            "text/plain": [
              "tensor(16., grad_fn=<PowBackward0>)"
            ]
          },
          "metadata": {
            "tags": []
          },
          "execution_count": 4
        }
      ]
    },
    {
      "cell_type": "code",
      "metadata": {
        "id": "j_3GSsuvYNpB",
        "colab_type": "code",
        "colab": {}
      },
      "source": [
        "#Implement backpropogation  for y=x**2\n",
        "y.backward()"
      ],
      "execution_count": 5,
      "outputs": []
    },
    {
      "cell_type": "code",
      "metadata": {
        "id": "reuD8MvPYVpG",
        "colab_type": "code",
        "colab": {
          "base_uri": "https://localhost:8080/",
          "height": 34
        },
        "outputId": "2055549d-d4b6-40fc-b242-b4f27b0597f6"
      },
      "source": [
        "print(x.grad)"
      ],
      "execution_count": 6,
      "outputs": [
        {
          "output_type": "stream",
          "text": [
            "tensor(8.)\n"
          ],
          "name": "stdout"
        }
      ]
    },
    {
      "cell_type": "markdown",
      "metadata": {
        "id": "BiY4H8VddbeJ",
        "colab_type": "text"
      },
      "source": [
        "Backpropogation for list of values"
      ]
    },
    {
      "cell_type": "code",
      "metadata": {
        "id": "p_dj6WyJYYTV",
        "colab_type": "code",
        "colab": {}
      },
      "source": [
        "lst = [[2., 3., 1.], [4., 5., 3.], [7., 6., 4.]]\n",
        "torch_input = torch.tensor(lst, requires_grad=True)"
      ],
      "execution_count": 7,
      "outputs": []
    },
    {
      "cell_type": "code",
      "metadata": {
        "id": "ST6u4B5Cd2pe",
        "colab_type": "code",
        "colab": {
          "base_uri": "https://localhost:8080/",
          "height": 67
        },
        "outputId": "f549e2cc-c2eb-4faa-cbd7-90eaf0370e45"
      },
      "source": [
        "torch_input"
      ],
      "execution_count": 8,
      "outputs": [
        {
          "output_type": "execute_result",
          "data": {
            "text/plain": [
              "tensor([[2., 3., 1.],\n",
              "        [4., 5., 3.],\n",
              "        [7., 6., 4.]], requires_grad=True)"
            ]
          },
          "metadata": {
            "tags": []
          },
          "execution_count": 8
        }
      ]
    },
    {
      "cell_type": "code",
      "metadata": {
        "id": "eAAFqMhad4In",
        "colab_type": "code",
        "colab": {
          "base_uri": "https://localhost:8080/",
          "height": 67
        },
        "outputId": "52c444c9-2d81-478e-b82b-b3e5e66594f2"
      },
      "source": [
        "# y = x**3 + x**2\n",
        "# derivative of y with respect to y will be = 3x**2 + 2x\n",
        "y = torch_input**3 + torch_input**2\n",
        "y"
      ],
      "execution_count": 10,
      "outputs": [
        {
          "output_type": "execute_result",
          "data": {
            "text/plain": [
              "tensor([[ 12.,  36.,   2.],\n",
              "        [ 80., 150.,  36.],\n",
              "        [392., 252.,  80.]], grad_fn=<AddBackward0>)"
            ]
          },
          "metadata": {
            "tags": []
          },
          "execution_count": 10
        }
      ]
    },
    {
      "cell_type": "code",
      "metadata": {
        "id": "CUw7qOiMeO9t",
        "colab_type": "code",
        "colab": {
          "base_uri": "https://localhost:8080/",
          "height": 34
        },
        "outputId": "caa50be9-711d-44da-e47b-2ac560843569"
      },
      "source": [
        "z = y.sum()\n",
        "z"
      ],
      "execution_count": 12,
      "outputs": [
        {
          "output_type": "execute_result",
          "data": {
            "text/plain": [
              "tensor(1040., grad_fn=<SumBackward0>)"
            ]
          },
          "metadata": {
            "tags": []
          },
          "execution_count": 12
        }
      ]
    },
    {
      "cell_type": "code",
      "metadata": {
        "id": "lquQhccjjVYK",
        "colab_type": "code",
        "colab": {}
      },
      "source": [
        "z.backward()"
      ],
      "execution_count": 13,
      "outputs": []
    },
    {
      "cell_type": "code",
      "metadata": {
        "id": "7eRlR5NGjYqY",
        "colab_type": "code",
        "colab": {
          "base_uri": "https://localhost:8080/",
          "height": 67
        },
        "outputId": "eb2e73f9-ffd0-4ff9-f41b-21d9a361242d"
      },
      "source": [
        "torch_input.grad"
      ],
      "execution_count": 14,
      "outputs": [
        {
          "output_type": "execute_result",
          "data": {
            "text/plain": [
              "tensor([[ 16.,  33.,   5.],\n",
              "        [ 56.,  85.,  33.],\n",
              "        [161., 120.,  56.]])"
            ]
          },
          "metadata": {
            "tags": []
          },
          "execution_count": 14
        }
      ]
    },
    {
      "cell_type": "code",
      "metadata": {
        "id": "jYGdY6cujhgg",
        "colab_type": "code",
        "colab": {}
      },
      "source": [
        ""
      ],
      "execution_count": null,
      "outputs": []
    }
  ]
}