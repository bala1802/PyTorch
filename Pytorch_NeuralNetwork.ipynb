{
  "nbformat": 4,
  "nbformat_minor": 0,
  "metadata": {
    "colab": {
      "name": "Pytorch_NeuralNetwork.ipynb",
      "provenance": [],
      "collapsed_sections": [],
      "authorship_tag": "ABX9TyNs1GHSxlQPCOQPDi6gp2vF",
      "include_colab_link": true
    },
    "kernelspec": {
      "name": "python3",
      "display_name": "Python 3"
    },
    "widgets": {
      "application/vnd.jupyter.widget-state+json": {
        "3b03650e6bae4547818224de6e091fa3": {
          "model_module": "@jupyter-widgets/controls",
          "model_name": "HBoxModel",
          "state": {
            "_view_name": "HBoxView",
            "_dom_classes": [],
            "_model_name": "HBoxModel",
            "_view_module": "@jupyter-widgets/controls",
            "_model_module_version": "1.5.0",
            "_view_count": null,
            "_view_module_version": "1.5.0",
            "box_style": "",
            "layout": "IPY_MODEL_5ee3f40fd2674772946159773cec70c9",
            "_model_module": "@jupyter-widgets/controls",
            "children": [
              "IPY_MODEL_64713640b3a34c6d83f494d04e58cfcc",
              "IPY_MODEL_c67b411dc9f342309e615d922b11cb4e"
            ]
          }
        },
        "5ee3f40fd2674772946159773cec70c9": {
          "model_module": "@jupyter-widgets/base",
          "model_name": "LayoutModel",
          "state": {
            "_view_name": "LayoutView",
            "grid_template_rows": null,
            "right": null,
            "justify_content": null,
            "_view_module": "@jupyter-widgets/base",
            "overflow": null,
            "_model_module_version": "1.2.0",
            "_view_count": null,
            "flex_flow": null,
            "width": null,
            "min_width": null,
            "border": null,
            "align_items": null,
            "bottom": null,
            "_model_module": "@jupyter-widgets/base",
            "top": null,
            "grid_column": null,
            "overflow_y": null,
            "overflow_x": null,
            "grid_auto_flow": null,
            "grid_area": null,
            "grid_template_columns": null,
            "flex": null,
            "_model_name": "LayoutModel",
            "justify_items": null,
            "grid_row": null,
            "max_height": null,
            "align_content": null,
            "visibility": null,
            "align_self": null,
            "height": null,
            "min_height": null,
            "padding": null,
            "grid_auto_rows": null,
            "grid_gap": null,
            "max_width": null,
            "order": null,
            "_view_module_version": "1.2.0",
            "grid_template_areas": null,
            "object_position": null,
            "object_fit": null,
            "grid_auto_columns": null,
            "margin": null,
            "display": null,
            "left": null
          }
        },
        "64713640b3a34c6d83f494d04e58cfcc": {
          "model_module": "@jupyter-widgets/controls",
          "model_name": "FloatProgressModel",
          "state": {
            "_view_name": "ProgressView",
            "style": "IPY_MODEL_44849d6ac84749998d92a4aacba6c983",
            "_dom_classes": [],
            "description": "",
            "_model_name": "FloatProgressModel",
            "bar_style": "info",
            "max": 1,
            "_view_module": "@jupyter-widgets/controls",
            "_model_module_version": "1.5.0",
            "value": 1,
            "_view_count": null,
            "_view_module_version": "1.5.0",
            "orientation": "horizontal",
            "min": 0,
            "description_tooltip": null,
            "_model_module": "@jupyter-widgets/controls",
            "layout": "IPY_MODEL_5fcddf11c85841d28ed3db572af84010"
          }
        },
        "c67b411dc9f342309e615d922b11cb4e": {
          "model_module": "@jupyter-widgets/controls",
          "model_name": "HTMLModel",
          "state": {
            "_view_name": "HTMLView",
            "style": "IPY_MODEL_b5b5c519a60b48c5b8a1a703d3c42346",
            "_dom_classes": [],
            "description": "",
            "_model_name": "HTMLModel",
            "placeholder": "​",
            "_view_module": "@jupyter-widgets/controls",
            "_model_module_version": "1.5.0",
            "value": " 26427392/? [00:20&lt;00:00, 10840318.40it/s]",
            "_view_count": null,
            "_view_module_version": "1.5.0",
            "description_tooltip": null,
            "_model_module": "@jupyter-widgets/controls",
            "layout": "IPY_MODEL_886bf28078164f018da1087806157148"
          }
        },
        "44849d6ac84749998d92a4aacba6c983": {
          "model_module": "@jupyter-widgets/controls",
          "model_name": "ProgressStyleModel",
          "state": {
            "_view_name": "StyleView",
            "_model_name": "ProgressStyleModel",
            "description_width": "initial",
            "_view_module": "@jupyter-widgets/base",
            "_model_module_version": "1.5.0",
            "_view_count": null,
            "_view_module_version": "1.2.0",
            "bar_color": null,
            "_model_module": "@jupyter-widgets/controls"
          }
        },
        "5fcddf11c85841d28ed3db572af84010": {
          "model_module": "@jupyter-widgets/base",
          "model_name": "LayoutModel",
          "state": {
            "_view_name": "LayoutView",
            "grid_template_rows": null,
            "right": null,
            "justify_content": null,
            "_view_module": "@jupyter-widgets/base",
            "overflow": null,
            "_model_module_version": "1.2.0",
            "_view_count": null,
            "flex_flow": null,
            "width": null,
            "min_width": null,
            "border": null,
            "align_items": null,
            "bottom": null,
            "_model_module": "@jupyter-widgets/base",
            "top": null,
            "grid_column": null,
            "overflow_y": null,
            "overflow_x": null,
            "grid_auto_flow": null,
            "grid_area": null,
            "grid_template_columns": null,
            "flex": null,
            "_model_name": "LayoutModel",
            "justify_items": null,
            "grid_row": null,
            "max_height": null,
            "align_content": null,
            "visibility": null,
            "align_self": null,
            "height": null,
            "min_height": null,
            "padding": null,
            "grid_auto_rows": null,
            "grid_gap": null,
            "max_width": null,
            "order": null,
            "_view_module_version": "1.2.0",
            "grid_template_areas": null,
            "object_position": null,
            "object_fit": null,
            "grid_auto_columns": null,
            "margin": null,
            "display": null,
            "left": null
          }
        },
        "b5b5c519a60b48c5b8a1a703d3c42346": {
          "model_module": "@jupyter-widgets/controls",
          "model_name": "DescriptionStyleModel",
          "state": {
            "_view_name": "StyleView",
            "_model_name": "DescriptionStyleModel",
            "description_width": "",
            "_view_module": "@jupyter-widgets/base",
            "_model_module_version": "1.5.0",
            "_view_count": null,
            "_view_module_version": "1.2.0",
            "_model_module": "@jupyter-widgets/controls"
          }
        },
        "886bf28078164f018da1087806157148": {
          "model_module": "@jupyter-widgets/base",
          "model_name": "LayoutModel",
          "state": {
            "_view_name": "LayoutView",
            "grid_template_rows": null,
            "right": null,
            "justify_content": null,
            "_view_module": "@jupyter-widgets/base",
            "overflow": null,
            "_model_module_version": "1.2.0",
            "_view_count": null,
            "flex_flow": null,
            "width": null,
            "min_width": null,
            "border": null,
            "align_items": null,
            "bottom": null,
            "_model_module": "@jupyter-widgets/base",
            "top": null,
            "grid_column": null,
            "overflow_y": null,
            "overflow_x": null,
            "grid_auto_flow": null,
            "grid_area": null,
            "grid_template_columns": null,
            "flex": null,
            "_model_name": "LayoutModel",
            "justify_items": null,
            "grid_row": null,
            "max_height": null,
            "align_content": null,
            "visibility": null,
            "align_self": null,
            "height": null,
            "min_height": null,
            "padding": null,
            "grid_auto_rows": null,
            "grid_gap": null,
            "max_width": null,
            "order": null,
            "_view_module_version": "1.2.0",
            "grid_template_areas": null,
            "object_position": null,
            "object_fit": null,
            "grid_auto_columns": null,
            "margin": null,
            "display": null,
            "left": null
          }
        },
        "c20002518bc248548a8ba8c10f2380d4": {
          "model_module": "@jupyter-widgets/controls",
          "model_name": "HBoxModel",
          "state": {
            "_view_name": "HBoxView",
            "_dom_classes": [],
            "_model_name": "HBoxModel",
            "_view_module": "@jupyter-widgets/controls",
            "_model_module_version": "1.5.0",
            "_view_count": null,
            "_view_module_version": "1.5.0",
            "box_style": "",
            "layout": "IPY_MODEL_8c3cf1d50df743a2a10aa76ba7481bd4",
            "_model_module": "@jupyter-widgets/controls",
            "children": [
              "IPY_MODEL_4f4f71fb06c54c208cda96aaa64462b8",
              "IPY_MODEL_906c829cf08646cf84d5247d60cfec67"
            ]
          }
        },
        "8c3cf1d50df743a2a10aa76ba7481bd4": {
          "model_module": "@jupyter-widgets/base",
          "model_name": "LayoutModel",
          "state": {
            "_view_name": "LayoutView",
            "grid_template_rows": null,
            "right": null,
            "justify_content": null,
            "_view_module": "@jupyter-widgets/base",
            "overflow": null,
            "_model_module_version": "1.2.0",
            "_view_count": null,
            "flex_flow": null,
            "width": null,
            "min_width": null,
            "border": null,
            "align_items": null,
            "bottom": null,
            "_model_module": "@jupyter-widgets/base",
            "top": null,
            "grid_column": null,
            "overflow_y": null,
            "overflow_x": null,
            "grid_auto_flow": null,
            "grid_area": null,
            "grid_template_columns": null,
            "flex": null,
            "_model_name": "LayoutModel",
            "justify_items": null,
            "grid_row": null,
            "max_height": null,
            "align_content": null,
            "visibility": null,
            "align_self": null,
            "height": null,
            "min_height": null,
            "padding": null,
            "grid_auto_rows": null,
            "grid_gap": null,
            "max_width": null,
            "order": null,
            "_view_module_version": "1.2.0",
            "grid_template_areas": null,
            "object_position": null,
            "object_fit": null,
            "grid_auto_columns": null,
            "margin": null,
            "display": null,
            "left": null
          }
        },
        "4f4f71fb06c54c208cda96aaa64462b8": {
          "model_module": "@jupyter-widgets/controls",
          "model_name": "FloatProgressModel",
          "state": {
            "_view_name": "ProgressView",
            "style": "IPY_MODEL_d63275f2499a47e2af98ffa04d275fd6",
            "_dom_classes": [],
            "description": "",
            "_model_name": "FloatProgressModel",
            "bar_style": "success",
            "max": 1,
            "_view_module": "@jupyter-widgets/controls",
            "_model_module_version": "1.5.0",
            "value": 1,
            "_view_count": null,
            "_view_module_version": "1.5.0",
            "orientation": "horizontal",
            "min": 0,
            "description_tooltip": null,
            "_model_module": "@jupyter-widgets/controls",
            "layout": "IPY_MODEL_43c9d986c6a44e988ad054f5e23af683"
          }
        },
        "906c829cf08646cf84d5247d60cfec67": {
          "model_module": "@jupyter-widgets/controls",
          "model_name": "HTMLModel",
          "state": {
            "_view_name": "HTMLView",
            "style": "IPY_MODEL_4f44d1cd35234eaab9ec85ab7b229058",
            "_dom_classes": [],
            "description": "",
            "_model_name": "HTMLModel",
            "placeholder": "​",
            "_view_module": "@jupyter-widgets/controls",
            "_model_module_version": "1.5.0",
            "value": " 32768/? [00:04&lt;00:00, 7400.03it/s]",
            "_view_count": null,
            "_view_module_version": "1.5.0",
            "description_tooltip": null,
            "_model_module": "@jupyter-widgets/controls",
            "layout": "IPY_MODEL_7ae8c3b92dbc4ea799d55502403e777f"
          }
        },
        "d63275f2499a47e2af98ffa04d275fd6": {
          "model_module": "@jupyter-widgets/controls",
          "model_name": "ProgressStyleModel",
          "state": {
            "_view_name": "StyleView",
            "_model_name": "ProgressStyleModel",
            "description_width": "initial",
            "_view_module": "@jupyter-widgets/base",
            "_model_module_version": "1.5.0",
            "_view_count": null,
            "_view_module_version": "1.2.0",
            "bar_color": null,
            "_model_module": "@jupyter-widgets/controls"
          }
        },
        "43c9d986c6a44e988ad054f5e23af683": {
          "model_module": "@jupyter-widgets/base",
          "model_name": "LayoutModel",
          "state": {
            "_view_name": "LayoutView",
            "grid_template_rows": null,
            "right": null,
            "justify_content": null,
            "_view_module": "@jupyter-widgets/base",
            "overflow": null,
            "_model_module_version": "1.2.0",
            "_view_count": null,
            "flex_flow": null,
            "width": null,
            "min_width": null,
            "border": null,
            "align_items": null,
            "bottom": null,
            "_model_module": "@jupyter-widgets/base",
            "top": null,
            "grid_column": null,
            "overflow_y": null,
            "overflow_x": null,
            "grid_auto_flow": null,
            "grid_area": null,
            "grid_template_columns": null,
            "flex": null,
            "_model_name": "LayoutModel",
            "justify_items": null,
            "grid_row": null,
            "max_height": null,
            "align_content": null,
            "visibility": null,
            "align_self": null,
            "height": null,
            "min_height": null,
            "padding": null,
            "grid_auto_rows": null,
            "grid_gap": null,
            "max_width": null,
            "order": null,
            "_view_module_version": "1.2.0",
            "grid_template_areas": null,
            "object_position": null,
            "object_fit": null,
            "grid_auto_columns": null,
            "margin": null,
            "display": null,
            "left": null
          }
        },
        "4f44d1cd35234eaab9ec85ab7b229058": {
          "model_module": "@jupyter-widgets/controls",
          "model_name": "DescriptionStyleModel",
          "state": {
            "_view_name": "StyleView",
            "_model_name": "DescriptionStyleModel",
            "description_width": "",
            "_view_module": "@jupyter-widgets/base",
            "_model_module_version": "1.5.0",
            "_view_count": null,
            "_view_module_version": "1.2.0",
            "_model_module": "@jupyter-widgets/controls"
          }
        },
        "7ae8c3b92dbc4ea799d55502403e777f": {
          "model_module": "@jupyter-widgets/base",
          "model_name": "LayoutModel",
          "state": {
            "_view_name": "LayoutView",
            "grid_template_rows": null,
            "right": null,
            "justify_content": null,
            "_view_module": "@jupyter-widgets/base",
            "overflow": null,
            "_model_module_version": "1.2.0",
            "_view_count": null,
            "flex_flow": null,
            "width": null,
            "min_width": null,
            "border": null,
            "align_items": null,
            "bottom": null,
            "_model_module": "@jupyter-widgets/base",
            "top": null,
            "grid_column": null,
            "overflow_y": null,
            "overflow_x": null,
            "grid_auto_flow": null,
            "grid_area": null,
            "grid_template_columns": null,
            "flex": null,
            "_model_name": "LayoutModel",
            "justify_items": null,
            "grid_row": null,
            "max_height": null,
            "align_content": null,
            "visibility": null,
            "align_self": null,
            "height": null,
            "min_height": null,
            "padding": null,
            "grid_auto_rows": null,
            "grid_gap": null,
            "max_width": null,
            "order": null,
            "_view_module_version": "1.2.0",
            "grid_template_areas": null,
            "object_position": null,
            "object_fit": null,
            "grid_auto_columns": null,
            "margin": null,
            "display": null,
            "left": null
          }
        },
        "43093c92b49e481b9bcbfe72d2663c8f": {
          "model_module": "@jupyter-widgets/controls",
          "model_name": "HBoxModel",
          "state": {
            "_view_name": "HBoxView",
            "_dom_classes": [],
            "_model_name": "HBoxModel",
            "_view_module": "@jupyter-widgets/controls",
            "_model_module_version": "1.5.0",
            "_view_count": null,
            "_view_module_version": "1.5.0",
            "box_style": "",
            "layout": "IPY_MODEL_75faa0881629465aa19f42d21b9b4303",
            "_model_module": "@jupyter-widgets/controls",
            "children": [
              "IPY_MODEL_587e5e805fd04d5ea29c17fff4e8a095",
              "IPY_MODEL_0cacec1fa90c4a7b887cd31641a4af22"
            ]
          }
        },
        "75faa0881629465aa19f42d21b9b4303": {
          "model_module": "@jupyter-widgets/base",
          "model_name": "LayoutModel",
          "state": {
            "_view_name": "LayoutView",
            "grid_template_rows": null,
            "right": null,
            "justify_content": null,
            "_view_module": "@jupyter-widgets/base",
            "overflow": null,
            "_model_module_version": "1.2.0",
            "_view_count": null,
            "flex_flow": null,
            "width": null,
            "min_width": null,
            "border": null,
            "align_items": null,
            "bottom": null,
            "_model_module": "@jupyter-widgets/base",
            "top": null,
            "grid_column": null,
            "overflow_y": null,
            "overflow_x": null,
            "grid_auto_flow": null,
            "grid_area": null,
            "grid_template_columns": null,
            "flex": null,
            "_model_name": "LayoutModel",
            "justify_items": null,
            "grid_row": null,
            "max_height": null,
            "align_content": null,
            "visibility": null,
            "align_self": null,
            "height": null,
            "min_height": null,
            "padding": null,
            "grid_auto_rows": null,
            "grid_gap": null,
            "max_width": null,
            "order": null,
            "_view_module_version": "1.2.0",
            "grid_template_areas": null,
            "object_position": null,
            "object_fit": null,
            "grid_auto_columns": null,
            "margin": null,
            "display": null,
            "left": null
          }
        },
        "587e5e805fd04d5ea29c17fff4e8a095": {
          "model_module": "@jupyter-widgets/controls",
          "model_name": "FloatProgressModel",
          "state": {
            "_view_name": "ProgressView",
            "style": "IPY_MODEL_402956fb291b4839ad267cce9589f2ab",
            "_dom_classes": [],
            "description": "",
            "_model_name": "FloatProgressModel",
            "bar_style": "success",
            "max": 1,
            "_view_module": "@jupyter-widgets/controls",
            "_model_module_version": "1.5.0",
            "value": 1,
            "_view_count": null,
            "_view_module_version": "1.5.0",
            "orientation": "horizontal",
            "min": 0,
            "description_tooltip": null,
            "_model_module": "@jupyter-widgets/controls",
            "layout": "IPY_MODEL_887dbb8671b747c68b07f135f9a10a17"
          }
        },
        "0cacec1fa90c4a7b887cd31641a4af22": {
          "model_module": "@jupyter-widgets/controls",
          "model_name": "HTMLModel",
          "state": {
            "_view_name": "HTMLView",
            "style": "IPY_MODEL_f2ad42fad898447eaad32e82b3aaa8a3",
            "_dom_classes": [],
            "description": "",
            "_model_name": "HTMLModel",
            "placeholder": "​",
            "_view_module": "@jupyter-widgets/controls",
            "_model_module_version": "1.5.0",
            "value": " 4423680/? [00:03&lt;00:00, 1270383.78it/s]",
            "_view_count": null,
            "_view_module_version": "1.5.0",
            "description_tooltip": null,
            "_model_module": "@jupyter-widgets/controls",
            "layout": "IPY_MODEL_4ea25031bb304af6932b3c3e8b26a9ec"
          }
        },
        "402956fb291b4839ad267cce9589f2ab": {
          "model_module": "@jupyter-widgets/controls",
          "model_name": "ProgressStyleModel",
          "state": {
            "_view_name": "StyleView",
            "_model_name": "ProgressStyleModel",
            "description_width": "initial",
            "_view_module": "@jupyter-widgets/base",
            "_model_module_version": "1.5.0",
            "_view_count": null,
            "_view_module_version": "1.2.0",
            "bar_color": null,
            "_model_module": "@jupyter-widgets/controls"
          }
        },
        "887dbb8671b747c68b07f135f9a10a17": {
          "model_module": "@jupyter-widgets/base",
          "model_name": "LayoutModel",
          "state": {
            "_view_name": "LayoutView",
            "grid_template_rows": null,
            "right": null,
            "justify_content": null,
            "_view_module": "@jupyter-widgets/base",
            "overflow": null,
            "_model_module_version": "1.2.0",
            "_view_count": null,
            "flex_flow": null,
            "width": null,
            "min_width": null,
            "border": null,
            "align_items": null,
            "bottom": null,
            "_model_module": "@jupyter-widgets/base",
            "top": null,
            "grid_column": null,
            "overflow_y": null,
            "overflow_x": null,
            "grid_auto_flow": null,
            "grid_area": null,
            "grid_template_columns": null,
            "flex": null,
            "_model_name": "LayoutModel",
            "justify_items": null,
            "grid_row": null,
            "max_height": null,
            "align_content": null,
            "visibility": null,
            "align_self": null,
            "height": null,
            "min_height": null,
            "padding": null,
            "grid_auto_rows": null,
            "grid_gap": null,
            "max_width": null,
            "order": null,
            "_view_module_version": "1.2.0",
            "grid_template_areas": null,
            "object_position": null,
            "object_fit": null,
            "grid_auto_columns": null,
            "margin": null,
            "display": null,
            "left": null
          }
        },
        "f2ad42fad898447eaad32e82b3aaa8a3": {
          "model_module": "@jupyter-widgets/controls",
          "model_name": "DescriptionStyleModel",
          "state": {
            "_view_name": "StyleView",
            "_model_name": "DescriptionStyleModel",
            "description_width": "",
            "_view_module": "@jupyter-widgets/base",
            "_model_module_version": "1.5.0",
            "_view_count": null,
            "_view_module_version": "1.2.0",
            "_model_module": "@jupyter-widgets/controls"
          }
        },
        "4ea25031bb304af6932b3c3e8b26a9ec": {
          "model_module": "@jupyter-widgets/base",
          "model_name": "LayoutModel",
          "state": {
            "_view_name": "LayoutView",
            "grid_template_rows": null,
            "right": null,
            "justify_content": null,
            "_view_module": "@jupyter-widgets/base",
            "overflow": null,
            "_model_module_version": "1.2.0",
            "_view_count": null,
            "flex_flow": null,
            "width": null,
            "min_width": null,
            "border": null,
            "align_items": null,
            "bottom": null,
            "_model_module": "@jupyter-widgets/base",
            "top": null,
            "grid_column": null,
            "overflow_y": null,
            "overflow_x": null,
            "grid_auto_flow": null,
            "grid_area": null,
            "grid_template_columns": null,
            "flex": null,
            "_model_name": "LayoutModel",
            "justify_items": null,
            "grid_row": null,
            "max_height": null,
            "align_content": null,
            "visibility": null,
            "align_self": null,
            "height": null,
            "min_height": null,
            "padding": null,
            "grid_auto_rows": null,
            "grid_gap": null,
            "max_width": null,
            "order": null,
            "_view_module_version": "1.2.0",
            "grid_template_areas": null,
            "object_position": null,
            "object_fit": null,
            "grid_auto_columns": null,
            "margin": null,
            "display": null,
            "left": null
          }
        },
        "60e860346bfc4940970025531011fc08": {
          "model_module": "@jupyter-widgets/controls",
          "model_name": "HBoxModel",
          "state": {
            "_view_name": "HBoxView",
            "_dom_classes": [],
            "_model_name": "HBoxModel",
            "_view_module": "@jupyter-widgets/controls",
            "_model_module_version": "1.5.0",
            "_view_count": null,
            "_view_module_version": "1.5.0",
            "box_style": "",
            "layout": "IPY_MODEL_240bfed61174431eb1879af868723087",
            "_model_module": "@jupyter-widgets/controls",
            "children": [
              "IPY_MODEL_8c8217ef642143ae9890e611c1abc609",
              "IPY_MODEL_44cd3504a3e14f2f8236614e84365457"
            ]
          }
        },
        "240bfed61174431eb1879af868723087": {
          "model_module": "@jupyter-widgets/base",
          "model_name": "LayoutModel",
          "state": {
            "_view_name": "LayoutView",
            "grid_template_rows": null,
            "right": null,
            "justify_content": null,
            "_view_module": "@jupyter-widgets/base",
            "overflow": null,
            "_model_module_version": "1.2.0",
            "_view_count": null,
            "flex_flow": null,
            "width": null,
            "min_width": null,
            "border": null,
            "align_items": null,
            "bottom": null,
            "_model_module": "@jupyter-widgets/base",
            "top": null,
            "grid_column": null,
            "overflow_y": null,
            "overflow_x": null,
            "grid_auto_flow": null,
            "grid_area": null,
            "grid_template_columns": null,
            "flex": null,
            "_model_name": "LayoutModel",
            "justify_items": null,
            "grid_row": null,
            "max_height": null,
            "align_content": null,
            "visibility": null,
            "align_self": null,
            "height": null,
            "min_height": null,
            "padding": null,
            "grid_auto_rows": null,
            "grid_gap": null,
            "max_width": null,
            "order": null,
            "_view_module_version": "1.2.0",
            "grid_template_areas": null,
            "object_position": null,
            "object_fit": null,
            "grid_auto_columns": null,
            "margin": null,
            "display": null,
            "left": null
          }
        },
        "8c8217ef642143ae9890e611c1abc609": {
          "model_module": "@jupyter-widgets/controls",
          "model_name": "FloatProgressModel",
          "state": {
            "_view_name": "ProgressView",
            "style": "IPY_MODEL_2c590015534b4973ba76a30071a9d95f",
            "_dom_classes": [],
            "description": "",
            "_model_name": "FloatProgressModel",
            "bar_style": "success",
            "max": 1,
            "_view_module": "@jupyter-widgets/controls",
            "_model_module_version": "1.5.0",
            "value": 1,
            "_view_count": null,
            "_view_module_version": "1.5.0",
            "orientation": "horizontal",
            "min": 0,
            "description_tooltip": null,
            "_model_module": "@jupyter-widgets/controls",
            "layout": "IPY_MODEL_bf3a5af5159e4d63a4435cdc62b908cd"
          }
        },
        "44cd3504a3e14f2f8236614e84365457": {
          "model_module": "@jupyter-widgets/controls",
          "model_name": "HTMLModel",
          "state": {
            "_view_name": "HTMLView",
            "style": "IPY_MODEL_2cb399418e4b46518ac08f1a4a6ff43b",
            "_dom_classes": [],
            "description": "",
            "_model_name": "HTMLModel",
            "placeholder": "​",
            "_view_module": "@jupyter-widgets/controls",
            "_model_module_version": "1.5.0",
            "value": " 8192/? [00:00&lt;00:00, 10662.60it/s]",
            "_view_count": null,
            "_view_module_version": "1.5.0",
            "description_tooltip": null,
            "_model_module": "@jupyter-widgets/controls",
            "layout": "IPY_MODEL_8621503651be4ca992f6f43d0965e5cf"
          }
        },
        "2c590015534b4973ba76a30071a9d95f": {
          "model_module": "@jupyter-widgets/controls",
          "model_name": "ProgressStyleModel",
          "state": {
            "_view_name": "StyleView",
            "_model_name": "ProgressStyleModel",
            "description_width": "initial",
            "_view_module": "@jupyter-widgets/base",
            "_model_module_version": "1.5.0",
            "_view_count": null,
            "_view_module_version": "1.2.0",
            "bar_color": null,
            "_model_module": "@jupyter-widgets/controls"
          }
        },
        "bf3a5af5159e4d63a4435cdc62b908cd": {
          "model_module": "@jupyter-widgets/base",
          "model_name": "LayoutModel",
          "state": {
            "_view_name": "LayoutView",
            "grid_template_rows": null,
            "right": null,
            "justify_content": null,
            "_view_module": "@jupyter-widgets/base",
            "overflow": null,
            "_model_module_version": "1.2.0",
            "_view_count": null,
            "flex_flow": null,
            "width": null,
            "min_width": null,
            "border": null,
            "align_items": null,
            "bottom": null,
            "_model_module": "@jupyter-widgets/base",
            "top": null,
            "grid_column": null,
            "overflow_y": null,
            "overflow_x": null,
            "grid_auto_flow": null,
            "grid_area": null,
            "grid_template_columns": null,
            "flex": null,
            "_model_name": "LayoutModel",
            "justify_items": null,
            "grid_row": null,
            "max_height": null,
            "align_content": null,
            "visibility": null,
            "align_self": null,
            "height": null,
            "min_height": null,
            "padding": null,
            "grid_auto_rows": null,
            "grid_gap": null,
            "max_width": null,
            "order": null,
            "_view_module_version": "1.2.0",
            "grid_template_areas": null,
            "object_position": null,
            "object_fit": null,
            "grid_auto_columns": null,
            "margin": null,
            "display": null,
            "left": null
          }
        },
        "2cb399418e4b46518ac08f1a4a6ff43b": {
          "model_module": "@jupyter-widgets/controls",
          "model_name": "DescriptionStyleModel",
          "state": {
            "_view_name": "StyleView",
            "_model_name": "DescriptionStyleModel",
            "description_width": "",
            "_view_module": "@jupyter-widgets/base",
            "_model_module_version": "1.5.0",
            "_view_count": null,
            "_view_module_version": "1.2.0",
            "_model_module": "@jupyter-widgets/controls"
          }
        },
        "8621503651be4ca992f6f43d0965e5cf": {
          "model_module": "@jupyter-widgets/base",
          "model_name": "LayoutModel",
          "state": {
            "_view_name": "LayoutView",
            "grid_template_rows": null,
            "right": null,
            "justify_content": null,
            "_view_module": "@jupyter-widgets/base",
            "overflow": null,
            "_model_module_version": "1.2.0",
            "_view_count": null,
            "flex_flow": null,
            "width": null,
            "min_width": null,
            "border": null,
            "align_items": null,
            "bottom": null,
            "_model_module": "@jupyter-widgets/base",
            "top": null,
            "grid_column": null,
            "overflow_y": null,
            "overflow_x": null,
            "grid_auto_flow": null,
            "grid_area": null,
            "grid_template_columns": null,
            "flex": null,
            "_model_name": "LayoutModel",
            "justify_items": null,
            "grid_row": null,
            "max_height": null,
            "align_content": null,
            "visibility": null,
            "align_self": null,
            "height": null,
            "min_height": null,
            "padding": null,
            "grid_auto_rows": null,
            "grid_gap": null,
            "max_width": null,
            "order": null,
            "_view_module_version": "1.2.0",
            "grid_template_areas": null,
            "object_position": null,
            "object_fit": null,
            "grid_auto_columns": null,
            "margin": null,
            "display": null,
            "left": null
          }
        }
      }
    }
  },
  "cells": [
    {
      "cell_type": "markdown",
      "metadata": {
        "id": "view-in-github",
        "colab_type": "text"
      },
      "source": [
        "<a href=\"https://colab.research.google.com/github/bala1802/PyTorch/blob/master/Pytorch_NeuralNetwork.ipynb\" target=\"_parent\"><img src=\"https://colab.research.google.com/assets/colab-badge.svg\" alt=\"Open In Colab\"/></a>"
      ]
    },
    {
      "cell_type": "code",
      "metadata": {
        "id": "6B0l37Ij7U_u"
      },
      "source": [
        "import torch\n",
        "import torch.nn as nn\n",
        "import numpy as np\n",
        "import torchvision # provide access to datasets, models, transforms, utils, etc\n",
        "import torchvision.transforms as transforms"
      ],
      "execution_count": 1,
      "outputs": []
    },
    {
      "cell_type": "code",
      "metadata": {
        "id": "bSo57ZQu7q1C"
      },
      "source": [
        "import torch.nn.functional as F\n",
        "class Network(nn.Module):\n",
        "    def __init__(self):\n",
        "        super().__init__() #Initializes the Network parameters which is overriden from the Super Class - Network Module (nn.Module)\n",
        "        self.conv1 = nn.Conv2d(in_channels=1, out_channels=6, kernel_size=5) #Image 28 X 28\n",
        "        self.conv2 = nn.Conv2d(in_channels=6, out_channels=12, kernel_size=5)\n",
        "\n",
        "        self.fc1 = nn.Linear(in_features=12 * 4 * 4, out_features=120)\n",
        "        self.fc2 = nn.Linear(in_features=120, out_features=60)\n",
        "        self.out = nn.Linear(in_features=60, out_features=10)\n",
        "\n",
        "    def forward(self, t):\n",
        "        # (1) input layer\n",
        "        t = t\n",
        "\n",
        "        # (2) hidden conv layer\n",
        "        t = self.conv1(t)\n",
        "        t = F.relu(t)\n",
        "        t = F.max_pool2d(t, kernel_size=2, stride=2)\n",
        "\n",
        "        # (3) hidden conv layer\n",
        "        t = self.conv2(t)\n",
        "        t = F.relu(t)\n",
        "        t = F.max_pool2d(t, kernel_size=2, stride=2)\n",
        "\n",
        "        # (4) hidden linear layer\n",
        "        t = t.reshape(-1, 12 * 4 * 4)\n",
        "        t = self.fc1(t)\n",
        "        t = F.relu(t)\n",
        "\n",
        "        # (5) hidden linear layer\n",
        "        t = self.fc2(t)\n",
        "        t = F.relu(t)\n",
        "\n",
        "        # (6) output layer\n",
        "        t = self.out(t)\n",
        "        #t = F.softmax(t, dim=1)\n",
        "\n",
        "        return t"
      ],
      "execution_count": 2,
      "outputs": []
    },
    {
      "cell_type": "code",
      "metadata": {
        "id": "hi93GbXv7u7S",
        "outputId": "8d3520c0-3773-4cc4-dc64-fb0555d75bd1",
        "colab": {
          "base_uri": "https://localhost:8080/"
        }
      },
      "source": [
        "network = Network()\n",
        "print(network)"
      ],
      "execution_count": 3,
      "outputs": [
        {
          "output_type": "stream",
          "text": [
            "Network(\n",
            "  (conv1): Conv2d(1, 6, kernel_size=(5, 5), stride=(1, 1))\n",
            "  (conv2): Conv2d(6, 12, kernel_size=(5, 5), stride=(1, 1))\n",
            "  (fc1): Linear(in_features=192, out_features=120, bias=True)\n",
            "  (fc2): Linear(in_features=120, out_features=60, bias=True)\n",
            "  (out): Linear(in_features=60, out_features=10, bias=True)\n",
            ")\n"
          ],
          "name": "stdout"
        }
      ]
    },
    {
      "cell_type": "markdown",
      "metadata": {
        "id": "LQW-bVaHgysz"
      },
      "source": [
        "Acceessing the Network Layers"
      ]
    },
    {
      "cell_type": "markdown",
      "metadata": {
        "id": "8ORsNQU-g5o0"
      },
      "source": [
        "First Convulation layer"
      ]
    },
    {
      "cell_type": "code",
      "metadata": {
        "id": "Uk2HMhGwgvQF",
        "outputId": "adce4f3d-5500-485a-8ee2-d9a8d6d5708f",
        "colab": {
          "base_uri": "https://localhost:8080/"
        }
      },
      "source": [
        "network.conv1"
      ],
      "execution_count": 4,
      "outputs": [
        {
          "output_type": "execute_result",
          "data": {
            "text/plain": [
              "Conv2d(1, 6, kernel_size=(5, 5), stride=(1, 1))"
            ]
          },
          "metadata": {
            "tags": []
          },
          "execution_count": 4
        }
      ]
    },
    {
      "cell_type": "markdown",
      "metadata": {
        "id": "3Q0szTgQg8Eb"
      },
      "source": [
        "Second Convulation layer"
      ]
    },
    {
      "cell_type": "code",
      "metadata": {
        "id": "NRIC2cZz8Bbt",
        "outputId": "57f3fed7-31ae-41e4-e103-454824c23d46",
        "colab": {
          "base_uri": "https://localhost:8080/"
        }
      },
      "source": [
        "network.conv2"
      ],
      "execution_count": 5,
      "outputs": [
        {
          "output_type": "execute_result",
          "data": {
            "text/plain": [
              "Conv2d(6, 12, kernel_size=(5, 5), stride=(1, 1))"
            ]
          },
          "metadata": {
            "tags": []
          },
          "execution_count": 5
        }
      ]
    },
    {
      "cell_type": "markdown",
      "metadata": {
        "id": "XrFM42VMhAhx"
      },
      "source": [
        "Fully Connected Layer-1"
      ]
    },
    {
      "cell_type": "code",
      "metadata": {
        "id": "U03stFQFg29V",
        "outputId": "7994b718-78fa-4bf6-d08a-e57476e54a4e",
        "colab": {
          "base_uri": "https://localhost:8080/"
        }
      },
      "source": [
        "network.fc1"
      ],
      "execution_count": 6,
      "outputs": [
        {
          "output_type": "execute_result",
          "data": {
            "text/plain": [
              "Linear(in_features=192, out_features=120, bias=True)"
            ]
          },
          "metadata": {
            "tags": []
          },
          "execution_count": 6
        }
      ]
    },
    {
      "cell_type": "code",
      "metadata": {
        "id": "biSDDqFzhNsU",
        "outputId": "87e9f8fc-c2b8-4eb6-d335-8a50c54bf43c",
        "colab": {
          "base_uri": "https://localhost:8080/"
        }
      },
      "source": [
        "network.out"
      ],
      "execution_count": 7,
      "outputs": [
        {
          "output_type": "execute_result",
          "data": {
            "text/plain": [
              "Linear(in_features=60, out_features=10, bias=True)"
            ]
          },
          "metadata": {
            "tags": []
          },
          "execution_count": 7
        }
      ]
    },
    {
      "cell_type": "markdown",
      "metadata": {
        "id": "HkNrfIB_hkMk"
      },
      "source": [
        "Accesing the Layer weight"
      ]
    },
    {
      "cell_type": "markdown",
      "metadata": {
        "id": "iDVrTof5ipFe"
      },
      "source": [
        "Weights of Convolution Layer-1"
      ]
    },
    {
      "cell_type": "code",
      "metadata": {
        "id": "B3fSzSSUhRXQ",
        "outputId": "a10c6181-06dd-4e9a-eba1-74f0e0880294",
        "colab": {
          "base_uri": "https://localhost:8080/"
        }
      },
      "source": [
        "network.conv1.weight"
      ],
      "execution_count": 8,
      "outputs": [
        {
          "output_type": "execute_result",
          "data": {
            "text/plain": [
              "Parameter containing:\n",
              "tensor([[[[-0.1094,  0.1232, -0.0535,  0.0827, -0.0717],\n",
              "          [-0.1127, -0.0468, -0.1957, -0.0331,  0.1412],\n",
              "          [-0.0131,  0.0555, -0.0399,  0.1631,  0.0085],\n",
              "          [ 0.0257, -0.1747,  0.0074,  0.1522, -0.0728],\n",
              "          [ 0.1848,  0.0927, -0.0161, -0.0502, -0.0481]]],\n",
              "\n",
              "\n",
              "        [[[-0.1871,  0.1705,  0.1464,  0.1093, -0.0016],\n",
              "          [-0.1782,  0.1948, -0.0679, -0.1947,  0.1316],\n",
              "          [ 0.1618,  0.1469, -0.1262, -0.1007, -0.1110],\n",
              "          [-0.1620, -0.0281, -0.0713,  0.1823,  0.1423],\n",
              "          [-0.0088,  0.0250,  0.1446, -0.1029, -0.1619]]],\n",
              "\n",
              "\n",
              "        [[[-0.1622,  0.1063,  0.1462,  0.1487,  0.0265],\n",
              "          [ 0.1282, -0.0560,  0.1745,  0.1704, -0.1549],\n",
              "          [ 0.0880, -0.1569,  0.0145, -0.0363,  0.0614],\n",
              "          [-0.0021,  0.0542,  0.1979, -0.0012,  0.0017],\n",
              "          [ 0.0796,  0.0783,  0.0811,  0.1213,  0.0653]]],\n",
              "\n",
              "\n",
              "        [[[-0.1901,  0.1755,  0.0056,  0.1397,  0.1151],\n",
              "          [ 0.1727, -0.0590,  0.0769, -0.1451, -0.1581],\n",
              "          [ 0.1659, -0.1008,  0.0818,  0.0166,  0.0469],\n",
              "          [ 0.1824,  0.1651,  0.0099,  0.1338,  0.0851],\n",
              "          [ 0.0378, -0.0084,  0.1994,  0.0613, -0.0034]]],\n",
              "\n",
              "\n",
              "        [[[ 0.1506, -0.1336,  0.1996,  0.1174,  0.0133],\n",
              "          [ 0.0260, -0.1542, -0.1679,  0.0535, -0.0151],\n",
              "          [ 0.0701,  0.1748,  0.1483, -0.0484,  0.0720],\n",
              "          [ 0.1833,  0.1181, -0.1880,  0.0705, -0.0919],\n",
              "          [ 0.0224, -0.0950,  0.1073, -0.1300,  0.0496]]],\n",
              "\n",
              "\n",
              "        [[[-0.0039,  0.0667,  0.1771, -0.0678, -0.1927],\n",
              "          [ 0.0573,  0.1671,  0.0437,  0.1515, -0.1629],\n",
              "          [-0.0497, -0.0752, -0.1413,  0.1378, -0.1644],\n",
              "          [-0.0178, -0.0190, -0.1086, -0.0200,  0.0690],\n",
              "          [ 0.0318,  0.0096,  0.0172,  0.1893,  0.0995]]]], requires_grad=True)"
            ]
          },
          "metadata": {
            "tags": []
          },
          "execution_count": 8
        }
      ]
    },
    {
      "cell_type": "code",
      "metadata": {
        "id": "I8y0mxBqh-xP",
        "outputId": "93705873-9d90-4807-e8c3-0d4e829becea",
        "colab": {
          "base_uri": "https://localhost:8080/"
        }
      },
      "source": [
        "len(network.conv1.weight)"
      ],
      "execution_count": 9,
      "outputs": [
        {
          "output_type": "execute_result",
          "data": {
            "text/plain": [
              "6"
            ]
          },
          "metadata": {
            "tags": []
          },
          "execution_count": 9
        }
      ]
    },
    {
      "cell_type": "markdown",
      "metadata": {
        "id": "A1ioDe1KirkP"
      },
      "source": [
        "Weights of Convolution Layer-2"
      ]
    },
    {
      "cell_type": "code",
      "metadata": {
        "id": "u7xvdRz3iFKH",
        "outputId": "62232c4f-a8a9-44aa-f2c6-110a07293368",
        "colab": {
          "base_uri": "https://localhost:8080/"
        }
      },
      "source": [
        "network.conv2.weight"
      ],
      "execution_count": 10,
      "outputs": [
        {
          "output_type": "execute_result",
          "data": {
            "text/plain": [
              "Parameter containing:\n",
              "tensor([[[[ 4.6069e-03,  9.9415e-03,  1.9458e-02, -7.3834e-02,  8.4272e-03],\n",
              "          [ 3.9906e-02, -3.5663e-02, -7.5563e-02,  4.0415e-02,  2.2247e-02],\n",
              "          [-6.8970e-02, -1.4140e-02, -5.2655e-02, -2.9415e-02, -5.7022e-02],\n",
              "          [-7.2678e-02, -3.8304e-03, -4.3701e-02,  7.2914e-02, -1.2694e-02],\n",
              "          [-8.0411e-02, -2.0784e-02,  1.2230e-03,  7.0517e-02, -3.0353e-02]],\n",
              "\n",
              "         [[-4.4138e-02,  4.1964e-02,  2.2861e-02,  2.8304e-02,  9.6109e-03],\n",
              "          [-5.6493e-03,  7.2118e-02,  1.4339e-02, -2.8286e-02,  5.3977e-03],\n",
              "          [-5.6439e-02, -3.2194e-02,  2.5950e-03, -2.0989e-02, -1.6811e-02],\n",
              "          [-4.5734e-02, -5.7532e-02, -6.6377e-02,  3.7476e-02, -5.6129e-02],\n",
              "          [ 6.6251e-02,  3.0208e-02, -4.6706e-02, -5.0397e-02, -3.6941e-02]],\n",
              "\n",
              "         [[-6.4844e-02, -7.8767e-02, -1.9038e-03,  5.9718e-02, -4.5849e-03],\n",
              "          [-7.5808e-02, -4.7156e-03, -1.5272e-03,  1.5190e-02,  6.5359e-02],\n",
              "          [-7.6362e-02, -7.5870e-02,  2.1670e-02, -1.7502e-03, -7.3167e-03],\n",
              "          [ 2.4908e-03, -7.9478e-02, -3.1160e-02, -1.3161e-02,  2.3284e-03],\n",
              "          [ 2.9542e-02, -3.4316e-02,  2.3660e-02,  6.8171e-02, -2.9846e-03]],\n",
              "\n",
              "         [[-2.0230e-03, -4.5440e-02,  1.4673e-02, -7.1952e-02, -4.9194e-02],\n",
              "          [ 8.1100e-03,  6.8998e-02,  5.3000e-02,  1.3632e-02,  7.1047e-02],\n",
              "          [ 2.1562e-02,  7.8571e-02,  5.2948e-02,  5.6955e-02,  7.1444e-02],\n",
              "          [ 1.3997e-05, -6.4763e-02,  2.8014e-02, -3.4865e-02,  3.4489e-02],\n",
              "          [-5.9266e-02,  3.5389e-02,  2.2091e-02,  1.7053e-02, -5.7938e-02]],\n",
              "\n",
              "         [[ 6.1353e-03,  3.0492e-02, -1.1508e-02,  6.9860e-02,  7.4140e-02],\n",
              "          [-6.2282e-02,  2.8892e-02,  3.2358e-02, -2.4158e-03,  5.6956e-03],\n",
              "          [-1.1735e-02,  3.5893e-02, -6.3807e-03,  1.0879e-02,  7.9711e-02],\n",
              "          [-1.5612e-02, -1.7583e-02,  3.8098e-02, -2.6487e-02, -4.8249e-02],\n",
              "          [-4.5792e-02,  1.4974e-02,  5.5167e-02, -1.7048e-02, -3.8637e-02]],\n",
              "\n",
              "         [[ 4.7034e-02, -2.6334e-02, -3.8152e-02, -4.3443e-04,  3.1868e-02],\n",
              "          [-6.1398e-02, -3.3467e-02, -6.0517e-02, -6.9388e-02, -5.2111e-02],\n",
              "          [-1.0390e-02, -5.9006e-02,  7.9702e-02, -5.7953e-03, -4.9373e-02],\n",
              "          [-2.9076e-03, -5.2431e-02,  5.1719e-02, -7.2861e-02,  2.9447e-02],\n",
              "          [ 5.0554e-02, -6.0163e-02,  2.2081e-02, -6.4812e-02,  5.1019e-02]]],\n",
              "\n",
              "\n",
              "        [[[-5.2884e-03, -6.3592e-02,  7.3073e-02, -3.0540e-02,  6.2746e-02],\n",
              "          [-6.8122e-02, -5.8084e-02, -5.1177e-02,  7.4568e-02, -5.7290e-02],\n",
              "          [-7.2048e-02,  4.3574e-02, -8.9051e-03,  9.9019e-03, -3.4360e-02],\n",
              "          [-7.6621e-02, -3.2883e-03, -4.9662e-02,  4.0042e-02,  5.8960e-02],\n",
              "          [ 8.0623e-02,  4.4992e-02,  3.3750e-03, -7.5179e-03,  2.6284e-02]],\n",
              "\n",
              "         [[ 5.6931e-02,  4.9910e-02, -7.2681e-03, -1.0610e-02,  4.9092e-02],\n",
              "          [ 3.6209e-02, -6.0027e-02,  6.3681e-02, -1.8302e-02,  3.5013e-02],\n",
              "          [-5.3839e-02,  6.5724e-02, -5.8251e-02,  3.3058e-02,  5.3873e-02],\n",
              "          [ 3.6047e-02, -1.0998e-02, -3.4168e-02, -8.2635e-04, -6.2078e-02],\n",
              "          [ 6.7535e-02,  3.3939e-02,  5.2410e-02, -3.6583e-02, -4.9430e-02]],\n",
              "\n",
              "         [[ 3.4168e-02, -4.5347e-02, -1.5873e-02, -3.0818e-02,  9.9205e-04],\n",
              "          [ 1.8443e-02, -5.7594e-02, -1.1188e-02, -3.1217e-02,  5.3298e-02],\n",
              "          [-3.9722e-02,  5.9940e-03,  4.6738e-02,  3.8094e-02,  3.0485e-02],\n",
              "          [-3.1206e-02, -1.2537e-02,  6.1482e-02,  1.9485e-02,  2.7333e-02],\n",
              "          [-3.7092e-03,  4.2738e-02,  2.8203e-02, -2.0867e-02, -1.4700e-02]],\n",
              "\n",
              "         [[-6.7076e-02, -6.3846e-02, -3.3049e-02, -1.2876e-02,  5.1159e-02],\n",
              "          [-2.0876e-02,  3.5383e-02, -2.5473e-02, -5.9042e-02, -5.0162e-03],\n",
              "          [ 6.9253e-02,  5.3469e-02, -4.1738e-02, -7.4805e-02,  1.2856e-02],\n",
              "          [-4.0849e-02,  3.9199e-02, -4.3350e-02, -3.5415e-02,  6.0758e-02],\n",
              "          [ 7.9286e-02, -2.1388e-02, -7.9693e-02, -4.8448e-02,  4.4323e-03]],\n",
              "\n",
              "         [[-2.7288e-02, -3.0902e-02,  1.4250e-02,  4.0038e-02,  7.3200e-02],\n",
              "          [ 6.7616e-02, -1.3110e-02, -4.1763e-02,  3.7315e-02,  1.8557e-02],\n",
              "          [ 7.0271e-02,  5.3642e-03,  3.0963e-02, -1.0349e-02, -6.6714e-02],\n",
              "          [ 2.1485e-03,  4.0581e-02,  4.9374e-02, -3.4801e-02, -1.4585e-02],\n",
              "          [-2.0165e-02,  2.2040e-02,  7.5549e-02,  2.8173e-03, -5.9187e-02]],\n",
              "\n",
              "         [[-1.3200e-02,  1.2023e-02, -5.1800e-02,  5.1173e-02,  1.7066e-02],\n",
              "          [-9.6704e-03, -7.4068e-02, -5.5637e-02,  9.9198e-03,  6.4804e-02],\n",
              "          [ 7.7382e-02,  7.4586e-03, -2.9176e-02,  7.8802e-02,  7.6184e-02],\n",
              "          [-5.4510e-02, -1.0873e-02,  1.3778e-02,  5.6268e-02,  4.5468e-02],\n",
              "          [-7.6953e-02,  6.0053e-02,  7.2748e-03, -5.6203e-03, -3.3997e-02]]],\n",
              "\n",
              "\n",
              "        [[[ 7.1673e-02, -2.0004e-02,  7.9044e-02,  2.4824e-03, -9.2722e-03],\n",
              "          [ 5.7999e-02, -5.1887e-02, -5.5671e-02, -1.8391e-02,  5.7241e-02],\n",
              "          [ 2.4906e-03,  3.3251e-03, -1.3110e-02,  5.9408e-02,  7.9512e-02],\n",
              "          [-6.1269e-02,  2.2713e-02, -6.9783e-02, -7.5312e-02, -7.3244e-02],\n",
              "          [ 5.2340e-02, -7.3092e-02,  5.3487e-03,  2.2689e-02,  5.0069e-03]],\n",
              "\n",
              "         [[-1.5612e-02,  3.3716e-02, -7.6901e-02, -1.4930e-02, -6.4533e-02],\n",
              "          [ 2.3178e-02,  1.1695e-02,  1.6429e-02,  1.0072e-02,  6.1575e-02],\n",
              "          [ 5.3417e-02, -4.0156e-02, -4.9043e-03,  4.7365e-02, -5.5407e-02],\n",
              "          [ 7.0646e-02, -3.1891e-02, -4.8037e-02, -1.7381e-02,  7.2980e-02],\n",
              "          [-6.3698e-02, -7.4672e-02,  1.0187e-02, -6.9873e-02,  2.4394e-02]],\n",
              "\n",
              "         [[-2.4659e-03,  4.0908e-02,  1.6625e-02,  1.5445e-02, -6.9917e-02],\n",
              "          [-1.5520e-02,  8.6782e-03,  8.0299e-02, -1.2464e-02,  2.7338e-02],\n",
              "          [ 4.0291e-03, -2.1237e-02, -2.4014e-02, -5.0523e-02, -7.8004e-03],\n",
              "          [-4.0816e-03,  4.6925e-02,  2.3109e-02,  1.6006e-02, -7.2809e-02],\n",
              "          [-2.1659e-02,  5.8849e-02, -1.8458e-02,  3.7720e-02, -3.6175e-02]],\n",
              "\n",
              "         [[-3.7861e-02, -6.3514e-02, -3.9829e-02,  5.4437e-02, -4.0393e-03],\n",
              "          [-9.8897e-03,  2.0897e-02, -2.5461e-02, -7.9042e-02,  5.0639e-02],\n",
              "          [-2.3192e-02, -4.6802e-02, -2.4153e-02, -3.5339e-03, -6.8502e-02],\n",
              "          [ 7.6867e-02,  7.4638e-02, -7.8176e-02, -2.0098e-02, -3.5460e-02],\n",
              "          [-5.2214e-02,  4.6274e-02, -4.1921e-03,  7.2491e-02,  1.7342e-02]],\n",
              "\n",
              "         [[ 7.3403e-03, -2.0545e-02, -3.4395e-02, -7.6963e-02, -4.8955e-02],\n",
              "          [ 2.1401e-02, -6.9656e-02,  4.5395e-03, -3.1239e-02, -3.7170e-02],\n",
              "          [-6.1111e-02, -8.0587e-02,  5.3705e-02,  7.8859e-02, -3.5615e-02],\n",
              "          [ 1.4797e-02, -4.7788e-02, -4.7500e-02,  5.1502e-02, -3.0134e-02],\n",
              "          [-5.3492e-02,  5.4540e-02,  7.9509e-02,  4.5847e-02,  7.8779e-02]],\n",
              "\n",
              "         [[ 7.0321e-02,  4.1582e-03, -7.2907e-02,  3.8612e-02, -3.3676e-02],\n",
              "          [ 3.0729e-02,  5.7288e-02,  6.2493e-02, -4.5883e-02, -6.9775e-02],\n",
              "          [ 6.1340e-02, -6.9165e-03, -7.1393e-02, -1.8940e-02,  4.8584e-02],\n",
              "          [ 9.4229e-03, -8.6160e-03, -6.4415e-02, -5.6880e-02, -8.0070e-02],\n",
              "          [ 1.2910e-02, -9.0726e-03, -5.1542e-02,  4.5530e-02,  7.9984e-02]]],\n",
              "\n",
              "\n",
              "        ...,\n",
              "\n",
              "\n",
              "        [[[-7.1938e-02,  7.9016e-02,  5.9177e-02,  7.2068e-02, -1.6637e-02],\n",
              "          [-4.7841e-03,  2.6277e-02, -7.2656e-02, -1.9100e-02, -7.3565e-03],\n",
              "          [-2.7733e-02,  7.7368e-02, -4.3557e-02,  4.9878e-02, -7.8370e-02],\n",
              "          [ 5.1601e-02, -3.4327e-02,  4.9771e-02,  5.6173e-02,  1.7056e-02],\n",
              "          [ 3.0385e-02, -2.6874e-02, -2.1419e-02, -2.8193e-02,  3.5048e-02]],\n",
              "\n",
              "         [[ 6.1103e-02, -2.4996e-03,  2.3450e-02, -3.4319e-02, -4.4914e-03],\n",
              "          [-6.0419e-03,  4.1992e-02, -4.1434e-02, -7.9395e-02, -4.7685e-02],\n",
              "          [-4.9717e-02, -7.0989e-02, -4.7220e-02, -2.7739e-02, -4.2920e-02],\n",
              "          [ 3.4372e-03,  1.8091e-02, -3.5340e-02,  6.4548e-02, -6.3542e-02],\n",
              "          [-2.2210e-02,  5.4739e-03,  7.2866e-02, -1.3156e-02, -6.7800e-02]],\n",
              "\n",
              "         [[-3.3033e-02, -5.8649e-02,  5.4304e-03, -3.4729e-02,  2.3408e-02],\n",
              "          [ 1.2780e-02, -7.6507e-02, -6.4769e-02,  5.6760e-02,  4.8815e-02],\n",
              "          [-4.4532e-02,  4.2632e-02,  4.2715e-02,  3.2132e-02, -6.4419e-02],\n",
              "          [-5.2373e-02, -5.0353e-02,  1.7592e-02,  4.4872e-02,  2.5631e-02],\n",
              "          [-2.9833e-02, -1.5869e-02,  3.3642e-02, -2.6144e-02,  8.1245e-02]],\n",
              "\n",
              "         [[-5.6543e-02,  7.4847e-02,  2.5786e-02,  1.5964e-02,  4.5239e-02],\n",
              "          [-6.8432e-02,  2.0799e-02,  6.4987e-02, -7.9464e-02,  1.2584e-02],\n",
              "          [ 5.4765e-02, -5.5400e-02, -3.1632e-02,  6.9689e-02, -4.4725e-02],\n",
              "          [-4.5957e-02, -3.9143e-02,  2.4100e-02, -5.6012e-02,  5.8357e-02],\n",
              "          [-6.6834e-02, -4.5590e-02, -4.5661e-02, -2.9366e-02, -5.5228e-02]],\n",
              "\n",
              "         [[ 7.1170e-02,  3.3173e-02, -3.0018e-02,  5.4009e-02, -2.6962e-02],\n",
              "          [ 2.3872e-02, -5.5015e-03,  7.3570e-02, -3.6419e-02, -5.0116e-02],\n",
              "          [ 1.7426e-02, -7.4390e-02,  3.4919e-02,  4.1589e-02, -3.4132e-02],\n",
              "          [-5.0405e-02, -4.5248e-03, -2.4480e-02,  2.2090e-02,  4.7132e-02],\n",
              "          [ 5.5720e-02, -4.3431e-02, -1.0407e-02,  9.4725e-04,  3.5177e-02]],\n",
              "\n",
              "         [[ 7.8519e-05,  2.7934e-02, -4.3888e-02,  4.2102e-02,  4.4379e-02],\n",
              "          [ 8.0994e-02,  1.9557e-02,  6.4580e-03, -5.0141e-02,  1.5567e-03],\n",
              "          [-6.0210e-03, -5.4321e-02, -1.0314e-02,  2.2949e-03, -4.8858e-02],\n",
              "          [ 1.1093e-03, -8.0406e-02, -2.9640e-02,  8.1088e-02, -7.4475e-02],\n",
              "          [ 6.4929e-02,  1.3515e-02,  6.3341e-02,  2.5796e-02,  7.5982e-02]]],\n",
              "\n",
              "\n",
              "        [[[ 5.2304e-02,  2.3609e-02, -1.0413e-02, -8.0403e-02,  7.5214e-02],\n",
              "          [-7.6704e-02, -5.4745e-02,  6.9305e-02,  6.2583e-02,  7.2847e-02],\n",
              "          [-4.6840e-02,  2.3891e-02,  5.3256e-02, -6.6055e-02, -3.7891e-02],\n",
              "          [-1.3442e-02, -2.5861e-02, -1.7666e-02,  3.0851e-02, -4.5202e-02],\n",
              "          [-6.3615e-02,  4.3925e-02,  8.0084e-02, -6.3736e-02, -8.0108e-02]],\n",
              "\n",
              "         [[ 1.6430e-02, -6.2399e-02,  5.6830e-03, -7.0008e-02,  4.9441e-02],\n",
              "          [ 1.1040e-04,  4.8638e-02,  3.6004e-02, -2.2003e-03,  2.6411e-02],\n",
              "          [-3.3681e-02, -4.2375e-02,  5.6131e-02, -6.0091e-04, -2.4332e-02],\n",
              "          [-7.5674e-03, -4.1477e-02, -5.3255e-02, -6.3693e-02,  1.4558e-02],\n",
              "          [ 1.0048e-02, -4.9761e-02,  2.4267e-02, -4.8289e-02, -6.3257e-02]],\n",
              "\n",
              "         [[-4.6171e-03,  5.2921e-02,  4.7886e-02, -5.9027e-02, -4.9657e-02],\n",
              "          [ 6.2913e-02,  1.1365e-02, -2.7347e-02, -3.2275e-02,  3.8126e-02],\n",
              "          [ 4.2930e-02, -3.3694e-02, -5.9593e-02, -4.8183e-02, -7.3175e-02],\n",
              "          [-7.7668e-02, -6.9371e-02,  4.1495e-02,  7.0447e-02,  6.0098e-02],\n",
              "          [-7.6624e-02, -4.3830e-02,  7.1053e-02, -3.8509e-02,  2.0275e-02]],\n",
              "\n",
              "         [[ 3.5395e-02, -2.4495e-02,  5.5466e-02, -6.2785e-02,  8.6270e-03],\n",
              "          [-2.3109e-02,  7.9260e-02,  3.4851e-02, -7.0631e-02,  4.4610e-03],\n",
              "          [ 5.7757e-02, -4.1138e-03,  1.3633e-02, -6.8488e-02, -7.6130e-02],\n",
              "          [-4.6524e-03,  6.4920e-02,  5.9896e-02, -2.9848e-02, -7.9790e-02],\n",
              "          [ 8.0944e-02,  7.3919e-02, -3.6549e-02,  4.4958e-02,  2.2025e-02]],\n",
              "\n",
              "         [[-4.3898e-02,  5.5405e-02, -8.0654e-02,  4.4981e-02,  3.9150e-02],\n",
              "          [ 4.8909e-02, -7.8183e-02, -7.3389e-02, -2.5751e-02, -2.5839e-02],\n",
              "          [ 1.5148e-02, -7.2641e-02,  4.8365e-02, -6.9541e-02, -2.9972e-02],\n",
              "          [-4.0831e-02, -7.7278e-02, -1.8158e-02,  7.1700e-02, -1.5731e-02],\n",
              "          [-4.1321e-02,  7.7181e-02, -5.3132e-02,  7.3006e-02, -7.3970e-02]],\n",
              "\n",
              "         [[-5.3583e-03,  6.6684e-02,  2.2623e-02,  6.0169e-02,  7.5333e-02],\n",
              "          [ 4.1584e-03,  7.2446e-02, -6.2589e-02,  7.8074e-02,  4.8524e-02],\n",
              "          [-5.1089e-02,  4.4584e-02,  4.2682e-02,  7.8673e-03,  6.9686e-02],\n",
              "          [ 1.1073e-02, -6.1103e-02,  1.4708e-02, -2.9903e-02,  6.2178e-02],\n",
              "          [-2.8050e-03,  3.5574e-02, -4.9837e-02,  5.2089e-03,  2.3572e-02]]],\n",
              "\n",
              "\n",
              "        [[[ 7.2048e-02, -6.8342e-02, -2.0099e-02, -1.8645e-02,  8.3028e-03],\n",
              "          [ 9.4029e-03, -5.6397e-03, -4.4995e-02,  3.8895e-02,  2.3314e-02],\n",
              "          [ 5.7323e-02,  6.8077e-02, -8.0791e-02, -2.3336e-03, -3.2964e-02],\n",
              "          [ 2.9754e-04, -2.6619e-02, -2.1766e-02,  1.9692e-02, -4.9351e-03],\n",
              "          [ 9.9494e-03,  2.1217e-03,  2.6918e-02, -3.4813e-02,  1.8575e-02]],\n",
              "\n",
              "         [[ 1.7719e-02,  4.8942e-02,  2.8503e-02,  1.2602e-02, -5.0135e-02],\n",
              "          [ 1.8550e-03, -8.0756e-02,  3.9903e-02,  2.9583e-02, -5.3023e-03],\n",
              "          [ 5.8220e-02,  2.2914e-02, -4.3396e-02,  7.3653e-02, -2.2883e-02],\n",
              "          [ 2.6305e-02, -2.1028e-02, -5.4658e-02, -6.2311e-02,  7.2846e-02],\n",
              "          [-3.5470e-02,  6.2553e-02,  1.2446e-02,  3.8645e-02, -2.8823e-03]],\n",
              "\n",
              "         [[ 6.1499e-02,  3.9024e-02,  5.9429e-02,  5.8279e-02, -9.6413e-03],\n",
              "          [-2.8169e-02,  7.6688e-02, -6.8827e-02,  6.7591e-03, -1.8057e-02],\n",
              "          [ 6.3398e-02,  2.4921e-02,  5.8193e-02, -3.8130e-02,  3.2666e-02],\n",
              "          [ 7.1226e-02,  8.5399e-03, -2.2861e-02, -1.7502e-02,  1.1873e-02],\n",
              "          [-5.7482e-02, -3.6621e-02,  1.6375e-02,  1.7068e-04,  6.1956e-02]],\n",
              "\n",
              "         [[ 4.1613e-02, -6.3526e-02,  4.7159e-02, -3.7951e-02, -4.1994e-02],\n",
              "          [ 3.1022e-02,  7.0710e-02,  1.4306e-02, -2.6530e-02,  7.7571e-02],\n",
              "          [-7.5612e-02,  4.7161e-02, -1.1432e-02,  2.5809e-02,  3.5150e-02],\n",
              "          [ 7.7180e-02, -4.3270e-02, -1.7965e-02, -4.1001e-02,  5.0077e-02],\n",
              "          [ 3.7177e-02, -5.8096e-02, -3.8182e-02, -3.3292e-02,  4.9034e-02]],\n",
              "\n",
              "         [[-7.1831e-02, -7.7833e-03, -3.3580e-05,  2.7876e-02,  4.4921e-02],\n",
              "          [-3.8514e-02, -2.3041e-02,  1.3406e-02,  5.1052e-02, -5.6862e-02],\n",
              "          [ 7.6843e-02, -6.8718e-02,  4.7853e-02, -4.3143e-02, -6.9466e-02],\n",
              "          [-6.8293e-02,  5.8120e-03,  3.1340e-02,  7.4191e-02,  2.9319e-02],\n",
              "          [-4.8097e-02,  3.1124e-03, -6.8264e-02,  5.9818e-02,  4.5147e-02]],\n",
              "\n",
              "         [[-2.2436e-02,  3.4872e-02,  4.9556e-02, -3.1150e-02, -3.6269e-03],\n",
              "          [-6.7936e-02, -4.6963e-02, -4.1817e-03, -1.7433e-02, -7.0335e-03],\n",
              "          [ 6.5094e-02, -4.1443e-02,  3.9821e-02, -6.0817e-02,  3.9186e-02],\n",
              "          [-6.4441e-02,  1.9424e-02, -2.7429e-02, -4.2193e-02,  7.5930e-02],\n",
              "          [-2.4096e-02,  6.7809e-03,  1.8581e-02,  6.6447e-02,  4.1040e-02]]]],\n",
              "       requires_grad=True)"
            ]
          },
          "metadata": {
            "tags": []
          },
          "execution_count": 10
        }
      ]
    },
    {
      "cell_type": "code",
      "metadata": {
        "id": "IPI9Hv_jibq8",
        "outputId": "6c765a70-18ec-4dcb-d2ce-de258af7322c",
        "colab": {
          "base_uri": "https://localhost:8080/"
        }
      },
      "source": [
        "len(network.conv2.weight)"
      ],
      "execution_count": 11,
      "outputs": [
        {
          "output_type": "execute_result",
          "data": {
            "text/plain": [
              "12"
            ]
          },
          "metadata": {
            "tags": []
          },
          "execution_count": 11
        }
      ]
    },
    {
      "cell_type": "markdown",
      "metadata": {
        "id": "svsFfyzKivgf"
      },
      "source": [
        "Weights Of Full Connected Layer-1"
      ]
    },
    {
      "cell_type": "code",
      "metadata": {
        "id": "pdz8QaiGic0v",
        "outputId": "03cf4a03-d9a8-4c33-8510-ace8e2d93977",
        "colab": {
          "base_uri": "https://localhost:8080/"
        }
      },
      "source": [
        "network.fc1.weight"
      ],
      "execution_count": 12,
      "outputs": [
        {
          "output_type": "execute_result",
          "data": {
            "text/plain": [
              "Parameter containing:\n",
              "tensor([[-0.0343,  0.0371,  0.0179,  ..., -0.0270, -0.0327,  0.0570],\n",
              "        [ 0.0461,  0.0412,  0.0693,  ..., -0.0472, -0.0531,  0.0311],\n",
              "        [ 0.0256, -0.0376, -0.0113,  ..., -0.0147,  0.0173,  0.0500],\n",
              "        ...,\n",
              "        [-0.0594,  0.0419,  0.0392,  ..., -0.0159, -0.0125,  0.0715],\n",
              "        [ 0.0110, -0.0180,  0.0216,  ..., -0.0409,  0.0428,  0.0620],\n",
              "        [ 0.0459, -0.0592,  0.0458,  ..., -0.0456,  0.0122, -0.0141]],\n",
              "       requires_grad=True)"
            ]
          },
          "metadata": {
            "tags": []
          },
          "execution_count": 12
        }
      ]
    },
    {
      "cell_type": "code",
      "metadata": {
        "id": "KD5Xe4h8i13t",
        "outputId": "f382361d-9398-4a4c-a094-a8cd15f83530",
        "colab": {
          "base_uri": "https://localhost:8080/"
        }
      },
      "source": [
        "len(network.fc1.weight)"
      ],
      "execution_count": 13,
      "outputs": [
        {
          "output_type": "execute_result",
          "data": {
            "text/plain": [
              "120"
            ]
          },
          "metadata": {
            "tags": []
          },
          "execution_count": 13
        }
      ]
    },
    {
      "cell_type": "code",
      "metadata": {
        "id": "hVZYrzyyjFUg",
        "outputId": "ae79ab6a-840b-4af6-b0f1-b7eb5c332b28",
        "colab": {
          "base_uri": "https://localhost:8080/"
        }
      },
      "source": [
        "network.fc1.weight.shape"
      ],
      "execution_count": 14,
      "outputs": [
        {
          "output_type": "execute_result",
          "data": {
            "text/plain": [
              "torch.Size([120, 192])"
            ]
          },
          "metadata": {
            "tags": []
          },
          "execution_count": 14
        }
      ]
    },
    {
      "cell_type": "code",
      "metadata": {
        "id": "drgIYJoZi6TJ",
        "outputId": "2ab94ea6-272a-4ed2-cc40-d2af4f607d3f",
        "colab": {
          "base_uri": "https://localhost:8080/"
        }
      },
      "source": [
        "network.fc2.weight"
      ],
      "execution_count": 15,
      "outputs": [
        {
          "output_type": "execute_result",
          "data": {
            "text/plain": [
              "Parameter containing:\n",
              "tensor([[ 0.0370,  0.0068, -0.0651,  ...,  0.0400, -0.0538, -0.0179],\n",
              "        [ 0.0869, -0.0133,  0.0080,  ...,  0.0239, -0.0573,  0.0779],\n",
              "        [ 0.0528,  0.0494, -0.0519,  ...,  0.0623,  0.0604,  0.0613],\n",
              "        ...,\n",
              "        [-0.0009, -0.0115,  0.0794,  ..., -0.0724,  0.0082,  0.0058],\n",
              "        [-0.0883, -0.0616, -0.0479,  ..., -0.0777, -0.0608,  0.0873],\n",
              "        [ 0.0007,  0.0668, -0.0630,  ..., -0.0570, -0.0142, -0.0321]],\n",
              "       requires_grad=True)"
            ]
          },
          "metadata": {
            "tags": []
          },
          "execution_count": 15
        }
      ]
    },
    {
      "cell_type": "code",
      "metadata": {
        "id": "3cyGHfsei96P",
        "outputId": "1960a477-cbbf-4ee4-cc79-30f362ed067c",
        "colab": {
          "base_uri": "https://localhost:8080/"
        }
      },
      "source": [
        "len(network.fc2.weight)"
      ],
      "execution_count": 16,
      "outputs": [
        {
          "output_type": "execute_result",
          "data": {
            "text/plain": [
              "60"
            ]
          },
          "metadata": {
            "tags": []
          },
          "execution_count": 16
        }
      ]
    },
    {
      "cell_type": "code",
      "metadata": {
        "id": "hRD9sZrxjAgl",
        "outputId": "b8b1c81d-14a2-4a52-ce5f-953f92352618",
        "colab": {
          "base_uri": "https://localhost:8080/"
        }
      },
      "source": [
        "network.fc2.weight.shape"
      ],
      "execution_count": 17,
      "outputs": [
        {
          "output_type": "execute_result",
          "data": {
            "text/plain": [
              "torch.Size([60, 120])"
            ]
          },
          "metadata": {
            "tags": []
          },
          "execution_count": 17
        }
      ]
    },
    {
      "cell_type": "markdown",
      "metadata": {
        "id": "DWQNW4tbjYEK"
      },
      "source": [
        "Network Parameters"
      ]
    },
    {
      "cell_type": "code",
      "metadata": {
        "id": "JiALsUHijL4G",
        "outputId": "c560d85c-b3ea-4295-8ba6-cccd92190751",
        "colab": {
          "base_uri": "https://localhost:8080/"
        }
      },
      "source": [
        "for param in network.parameters():\n",
        "    print(param.shape)"
      ],
      "execution_count": 18,
      "outputs": [
        {
          "output_type": "stream",
          "text": [
            "torch.Size([6, 1, 5, 5])\n",
            "torch.Size([6])\n",
            "torch.Size([12, 6, 5, 5])\n",
            "torch.Size([12])\n",
            "torch.Size([120, 192])\n",
            "torch.Size([120])\n",
            "torch.Size([60, 120])\n",
            "torch.Size([60])\n",
            "torch.Size([10, 60])\n",
            "torch.Size([10])\n"
          ],
          "name": "stdout"
        }
      ]
    },
    {
      "cell_type": "markdown",
      "metadata": {
        "id": "m0uGjoNzjwhq"
      },
      "source": [
        "Network Named Parameters"
      ]
    },
    {
      "cell_type": "code",
      "metadata": {
        "id": "ScrAG7najrry",
        "outputId": "c1f2bf91-a523-4adb-c5bc-27fe2b3f13a7",
        "colab": {
          "base_uri": "https://localhost:8080/"
        }
      },
      "source": [
        "for name, param in network.named_parameters():\n",
        "    print(name, '\\t\\t', param.shape)"
      ],
      "execution_count": 19,
      "outputs": [
        {
          "output_type": "stream",
          "text": [
            "conv1.weight \t\t torch.Size([6, 1, 5, 5])\n",
            "conv1.bias \t\t torch.Size([6])\n",
            "conv2.weight \t\t torch.Size([12, 6, 5, 5])\n",
            "conv2.bias \t\t torch.Size([12])\n",
            "fc1.weight \t\t torch.Size([120, 192])\n",
            "fc1.bias \t\t torch.Size([120])\n",
            "fc2.weight \t\t torch.Size([60, 120])\n",
            "fc2.bias \t\t torch.Size([60])\n",
            "out.weight \t\t torch.Size([10, 60])\n",
            "out.bias \t\t torch.Size([10])\n"
          ],
          "name": "stdout"
        }
      ]
    },
    {
      "cell_type": "markdown",
      "metadata": {
        "id": "Qn7TtVOck3nu"
      },
      "source": [
        "Download Fashion MNSIT Dataset"
      ]
    },
    {
      "cell_type": "code",
      "metadata": {
        "id": "4wWhftRnj2Y1",
        "outputId": "927c1099-669a-464c-a251-7b0c0b080b63",
        "colab": {
          "base_uri": "https://localhost:8080/",
          "height": 437,
          "referenced_widgets": [
            "3b03650e6bae4547818224de6e091fa3",
            "5ee3f40fd2674772946159773cec70c9",
            "64713640b3a34c6d83f494d04e58cfcc",
            "c67b411dc9f342309e615d922b11cb4e",
            "44849d6ac84749998d92a4aacba6c983",
            "5fcddf11c85841d28ed3db572af84010",
            "b5b5c519a60b48c5b8a1a703d3c42346",
            "886bf28078164f018da1087806157148",
            "c20002518bc248548a8ba8c10f2380d4",
            "8c3cf1d50df743a2a10aa76ba7481bd4",
            "4f4f71fb06c54c208cda96aaa64462b8",
            "906c829cf08646cf84d5247d60cfec67",
            "d63275f2499a47e2af98ffa04d275fd6",
            "43c9d986c6a44e988ad054f5e23af683",
            "4f44d1cd35234eaab9ec85ab7b229058",
            "7ae8c3b92dbc4ea799d55502403e777f",
            "43093c92b49e481b9bcbfe72d2663c8f",
            "75faa0881629465aa19f42d21b9b4303",
            "587e5e805fd04d5ea29c17fff4e8a095",
            "0cacec1fa90c4a7b887cd31641a4af22",
            "402956fb291b4839ad267cce9589f2ab",
            "887dbb8671b747c68b07f135f9a10a17",
            "f2ad42fad898447eaad32e82b3aaa8a3",
            "4ea25031bb304af6932b3c3e8b26a9ec",
            "60e860346bfc4940970025531011fc08",
            "240bfed61174431eb1879af868723087",
            "8c8217ef642143ae9890e611c1abc609",
            "44cd3504a3e14f2f8236614e84365457",
            "2c590015534b4973ba76a30071a9d95f",
            "bf3a5af5159e4d63a4435cdc62b908cd",
            "2cb399418e4b46518ac08f1a4a6ff43b",
            "8621503651be4ca992f6f43d0965e5cf"
          ]
        }
      },
      "source": [
        "train_set = torchvision.datasets.FashionMNIST(\n",
        "    root='./data'\n",
        "    ,train=True\n",
        "    ,download=True\n",
        "    ,transform=transforms.Compose([\n",
        "        transforms.ToTensor()\n",
        "    ])\n",
        ")"
      ],
      "execution_count": 23,
      "outputs": [
        {
          "output_type": "stream",
          "text": [
            "Downloading http://fashion-mnist.s3-website.eu-central-1.amazonaws.com/train-images-idx3-ubyte.gz to ./data/FashionMNIST/raw/train-images-idx3-ubyte.gz\n"
          ],
          "name": "stdout"
        },
        {
          "output_type": "display_data",
          "data": {
            "application/vnd.jupyter.widget-view+json": {
              "model_id": "3b03650e6bae4547818224de6e091fa3",
              "version_minor": 0,
              "version_major": 2
            },
            "text/plain": [
              "HBox(children=(FloatProgress(value=1.0, bar_style='info', max=1.0), HTML(value='')))"
            ]
          },
          "metadata": {
            "tags": []
          }
        },
        {
          "output_type": "stream",
          "text": [
            "Extracting ./data/FashionMNIST/raw/train-images-idx3-ubyte.gz to ./data/FashionMNIST/raw\n",
            "Downloading http://fashion-mnist.s3-website.eu-central-1.amazonaws.com/train-labels-idx1-ubyte.gz to ./data/FashionMNIST/raw/train-labels-idx1-ubyte.gz\n"
          ],
          "name": "stdout"
        },
        {
          "output_type": "display_data",
          "data": {
            "application/vnd.jupyter.widget-view+json": {
              "model_id": "c20002518bc248548a8ba8c10f2380d4",
              "version_minor": 0,
              "version_major": 2
            },
            "text/plain": [
              "HBox(children=(FloatProgress(value=1.0, bar_style='info', max=1.0), HTML(value='')))"
            ]
          },
          "metadata": {
            "tags": []
          }
        },
        {
          "output_type": "stream",
          "text": [
            "Extracting ./data/FashionMNIST/raw/train-labels-idx1-ubyte.gz to ./data/FashionMNIST/raw\n",
            "Downloading http://fashion-mnist.s3-website.eu-central-1.amazonaws.com/t10k-images-idx3-ubyte.gz to ./data/FashionMNIST/raw/t10k-images-idx3-ubyte.gz\n"
          ],
          "name": "stdout"
        },
        {
          "output_type": "display_data",
          "data": {
            "application/vnd.jupyter.widget-view+json": {
              "model_id": "43093c92b49e481b9bcbfe72d2663c8f",
              "version_minor": 0,
              "version_major": 2
            },
            "text/plain": [
              "HBox(children=(FloatProgress(value=1.0, bar_style='info', max=1.0), HTML(value='')))"
            ]
          },
          "metadata": {
            "tags": []
          }
        },
        {
          "output_type": "stream",
          "text": [
            "Extracting ./data/FashionMNIST/raw/t10k-images-idx3-ubyte.gz to ./data/FashionMNIST/raw\n",
            "Downloading http://fashion-mnist.s3-website.eu-central-1.amazonaws.com/t10k-labels-idx1-ubyte.gz to ./data/FashionMNIST/raw/t10k-labels-idx1-ubyte.gz\n"
          ],
          "name": "stdout"
        },
        {
          "output_type": "display_data",
          "data": {
            "application/vnd.jupyter.widget-view+json": {
              "model_id": "60e860346bfc4940970025531011fc08",
              "version_minor": 0,
              "version_major": 2
            },
            "text/plain": [
              "HBox(children=(FloatProgress(value=1.0, bar_style='info', max=1.0), HTML(value='')))"
            ]
          },
          "metadata": {
            "tags": []
          }
        },
        {
          "output_type": "stream",
          "text": [
            "Extracting ./data/FashionMNIST/raw/t10k-labels-idx1-ubyte.gz to ./data/FashionMNIST/raw\n",
            "Processing...\n",
            "\n",
            "\n"
          ],
          "name": "stdout"
        },
        {
          "output_type": "stream",
          "text": [
            "/usr/local/lib/python3.6/dist-packages/torchvision/datasets/mnist.py:480: UserWarning: The given NumPy array is not writeable, and PyTorch does not support non-writeable tensors. This means you can write to the underlying (supposedly non-writeable) NumPy array using the tensor. You may want to copy the array to protect its data or make it writeable before converting it to a tensor. This type of warning will be suppressed for the rest of this program. (Triggered internally at  /pytorch/torch/csrc/utils/tensor_numpy.cpp:141.)\n",
            "  return torch.from_numpy(parsed.astype(m[2], copy=False)).view(*s)\n"
          ],
          "name": "stderr"
        },
        {
          "output_type": "stream",
          "text": [
            "\n",
            "Done!\n"
          ],
          "name": "stdout"
        }
      ]
    },
    {
      "cell_type": "markdown",
      "metadata": {
        "id": "wbaXmZwGmuDB"
      },
      "source": [
        "We can turn the dynamic graphing/gradients feature OFF, since we aren't going to be training it for sometime. It also saves memory"
      ]
    },
    {
      "cell_type": "code",
      "metadata": {
        "id": "nXwcFXTjlB3Z",
        "outputId": "ed2eede0-2675-4616-a8a2-5d841c906cb4",
        "colab": {
          "base_uri": "https://localhost:8080/"
        }
      },
      "source": [
        "torch.set_grad_enabled(False)"
      ],
      "execution_count": 24,
      "outputs": [
        {
          "output_type": "execute_result",
          "data": {
            "text/plain": [
              "<torch.autograd.grad_mode.set_grad_enabled at 0x7fcd71a46b70>"
            ]
          },
          "metadata": {
            "tags": []
          },
          "execution_count": 24
        }
      ]
    },
    {
      "cell_type": "code",
      "metadata": {
        "id": "jMmFI6gzm2T1",
        "outputId": "ffaa5b34-e5aa-4582-a781-d6e9834b750d",
        "colab": {
          "base_uri": "https://localhost:8080/"
        }
      },
      "source": [
        "sample = next(iter(train_set)) \n",
        "image, label = sample\n",
        "image.shape"
      ],
      "execution_count": 25,
      "outputs": [
        {
          "output_type": "execute_result",
          "data": {
            "text/plain": [
              "torch.Size([1, 28, 28])"
            ]
          },
          "metadata": {
            "tags": []
          },
          "execution_count": 25
        }
      ]
    },
    {
      "cell_type": "markdown",
      "metadata": {
        "id": "5Zh4trQUnNDs"
      },
      "source": [
        "The Shape of the image - [1, 28, 28] won't be supported while training the Images. So we'll be unsqueezing it to [1, 1, 28, 28] \n",
        "\n",
        "- The first '1' represents the size of the batch\n",
        "- The second '1' represents the number of input channels\n",
        "- 28 X 28 represents the Height X Width"
      ]
    },
    {
      "cell_type": "code",
      "metadata": {
        "id": "wPEJjT21nIjT",
        "outputId": "a7c2b759-b490-4605-dbb1-9515cea4ac58",
        "colab": {
          "base_uri": "https://localhost:8080/"
        }
      },
      "source": [
        "image.unsqueeze(0).shape"
      ],
      "execution_count": 26,
      "outputs": [
        {
          "output_type": "execute_result",
          "data": {
            "text/plain": [
              "torch.Size([1, 1, 28, 28])"
            ]
          },
          "metadata": {
            "tags": []
          },
          "execution_count": 26
        }
      ]
    },
    {
      "cell_type": "code",
      "metadata": {
        "id": "_WD7oyt-nhJ7"
      },
      "source": [
        "network = Network()\n",
        "pred = network(image.unsqueeze(0)) # image shape needs to be (batch_size × in_channels × H × W)"
      ],
      "execution_count": 27,
      "outputs": []
    },
    {
      "cell_type": "code",
      "metadata": {
        "id": "tQa00Sf9n7hl",
        "outputId": "18d3ef87-2a45-4d2c-99f8-234b0d82ff59",
        "colab": {
          "base_uri": "https://localhost:8080/"
        }
      },
      "source": [
        "pred"
      ],
      "execution_count": 28,
      "outputs": [
        {
          "output_type": "execute_result",
          "data": {
            "text/plain": [
              "tensor([[-0.0608,  0.0192, -0.1254,  0.0119,  0.0441, -0.1119,  0.0673, -0.0567,\n",
              "          0.0969, -0.1175]])"
            ]
          },
          "metadata": {
            "tags": []
          },
          "execution_count": 28
        }
      ]
    },
    {
      "cell_type": "markdown",
      "metadata": {
        "id": "kfEkB1cktT4s"
      },
      "source": [
        "The Shape should be 10, coz the number of classes in the training set is 10"
      ]
    },
    {
      "cell_type": "code",
      "metadata": {
        "id": "bdpEYIsWtRgh",
        "outputId": "4c818329-1a70-4d12-e81b-2602087c1b9a",
        "colab": {
          "base_uri": "https://localhost:8080/"
        }
      },
      "source": [
        "pred.shape"
      ],
      "execution_count": 29,
      "outputs": [
        {
          "output_type": "execute_result",
          "data": {
            "text/plain": [
              "torch.Size([1, 10])"
            ]
          },
          "metadata": {
            "tags": []
          },
          "execution_count": 29
        }
      ]
    },
    {
      "cell_type": "code",
      "metadata": {
        "id": "YFHMOjektS2N",
        "outputId": "dc479717-cc8d-461f-83c8-01335a51b26b",
        "colab": {
          "base_uri": "https://localhost:8080/"
        }
      },
      "source": [
        "label # The Label should be predicted"
      ],
      "execution_count": 30,
      "outputs": [
        {
          "output_type": "execute_result",
          "data": {
            "text/plain": [
              "9"
            ]
          },
          "metadata": {
            "tags": []
          },
          "execution_count": 30
        }
      ]
    },
    {
      "cell_type": "code",
      "metadata": {
        "id": "X6fKBfWTtpxh",
        "outputId": "7fa78364-24d5-450c-e37a-2fc1ebc34475",
        "colab": {
          "base_uri": "https://localhost:8080/"
        }
      },
      "source": [
        "pred.argmax(dim=1) # Find the maximum value in the tensor used 'argmax'"
      ],
      "execution_count": 31,
      "outputs": [
        {
          "output_type": "execute_result",
          "data": {
            "text/plain": [
              "tensor([8])"
            ]
          },
          "metadata": {
            "tags": []
          },
          "execution_count": 31
        }
      ]
    },
    {
      "cell_type": "code",
      "metadata": {
        "id": "-k6l2cKWtwWo",
        "outputId": "220339cf-c833-4d89-b613-ab07cf5f7643",
        "colab": {
          "base_uri": "https://localhost:8080/"
        }
      },
      "source": [
        "F.softmax(pred, dim=1)"
      ],
      "execution_count": 32,
      "outputs": [
        {
          "output_type": "execute_result",
          "data": {
            "text/plain": [
              "tensor([[0.0960, 0.1040, 0.0900, 0.1033, 0.1066, 0.0912, 0.1092, 0.0964, 0.1124,\n",
              "         0.0907]])"
            ]
          },
          "metadata": {
            "tags": []
          },
          "execution_count": 32
        }
      ]
    },
    {
      "cell_type": "markdown",
      "metadata": {
        "id": "3q1T4AJCuciz"
      },
      "source": [
        "Working with multiple images - Dataloader is used"
      ]
    },
    {
      "cell_type": "code",
      "metadata": {
        "id": "gnV-N0WUuGtp",
        "outputId": "e68b6aef-48ce-4d19-cf20-5804a9b7e8ba",
        "colab": {
          "base_uri": "https://localhost:8080/"
        }
      },
      "source": [
        "data_loader = torch.utils.data.DataLoader(\n",
        "    train_set, \n",
        "    batch_size=10\n",
        ")\n",
        "\n",
        "batch = next(iter(data_loader))\n",
        "len(batch) # Length of the batches is 2"
      ],
      "execution_count": 33,
      "outputs": [
        {
          "output_type": "execute_result",
          "data": {
            "text/plain": [
              "2"
            ]
          },
          "metadata": {
            "tags": []
          },
          "execution_count": 33
        }
      ]
    },
    {
      "cell_type": "code",
      "metadata": {
        "id": "MzAmFdIQurZZ",
        "outputId": "543b20b0-a9bc-4018-8311-9fcf2e4d0883",
        "colab": {
          "base_uri": "https://localhost:8080/"
        }
      },
      "source": [
        "batch[1] # The labels total 10\n",
        "# batch[0] # The Images total 10"
      ],
      "execution_count": 34,
      "outputs": [
        {
          "output_type": "execute_result",
          "data": {
            "text/plain": [
              "tensor([9, 0, 0, 3, 0, 2, 7, 2, 5, 5])"
            ]
          },
          "metadata": {
            "tags": []
          },
          "execution_count": 34
        }
      ]
    },
    {
      "cell_type": "markdown",
      "metadata": {
        "id": "un8ZhKOWvBX_"
      },
      "source": [
        "Notice that the label is 9"
      ]
    },
    {
      "cell_type": "code",
      "metadata": {
        "id": "3DiTpllou6u3",
        "outputId": "24f55c74-d93d-454a-891a-2a5318009d33",
        "colab": {
          "base_uri": "https://localhost:8080/"
        }
      },
      "source": [
        "images, labels = batch\n",
        "images.shape"
      ],
      "execution_count": 35,
      "outputs": [
        {
          "output_type": "execute_result",
          "data": {
            "text/plain": [
              "torch.Size([10, 1, 28, 28])"
            ]
          },
          "metadata": {
            "tags": []
          },
          "execution_count": 35
        }
      ]
    },
    {
      "cell_type": "markdown",
      "metadata": {
        "id": "rRcldu5IvmFx"
      },
      "source": [
        "From the above, The Shape of the Images is [10, 1, 28, 28] => 10 is the number of batches, 1 is the number of channels, 28X28 is HXW\n",
        "\n",
        "Here the unsqueeze operation is not needed, coz the batch size is already configured as 10"
      ]
    },
    {
      "cell_type": "code",
      "metadata": {
        "id": "Iv04WrQMvOCJ",
        "outputId": "34aa8cc3-b218-498f-99dc-7d78f5aab21c",
        "colab": {
          "base_uri": "https://localhost:8080/"
        }
      },
      "source": [
        "preds = network(images)\n",
        "preds.shape"
      ],
      "execution_count": 36,
      "outputs": [
        {
          "output_type": "execute_result",
          "data": {
            "text/plain": [
              "torch.Size([10, 10])"
            ]
          },
          "metadata": {
            "tags": []
          },
          "execution_count": 36
        }
      ]
    },
    {
      "cell_type": "code",
      "metadata": {
        "id": "crZwM1Pfy3Io",
        "outputId": "7a6549be-7f37-41aa-9d42-a23282643022",
        "colab": {
          "base_uri": "https://localhost:8080/"
        }
      },
      "source": [
        "preds"
      ],
      "execution_count": 37,
      "outputs": [
        {
          "output_type": "execute_result",
          "data": {
            "text/plain": [
              "tensor([[-0.0608,  0.0192, -0.1254,  0.0119,  0.0441, -0.1119,  0.0673, -0.0567,\n",
              "          0.0969, -0.1175],\n",
              "        [-0.0622,  0.0148, -0.1322,  0.0112,  0.0394, -0.1113,  0.0683, -0.0553,\n",
              "          0.0995, -0.1148],\n",
              "        [-0.0580,  0.0204, -0.1213,  0.0047,  0.0438, -0.1081,  0.0641, -0.0527,\n",
              "          0.0965, -0.1084],\n",
              "        [-0.0600,  0.0213, -0.1223,  0.0069,  0.0448, -0.1071,  0.0669, -0.0537,\n",
              "          0.0976, -0.1104],\n",
              "        [-0.0580,  0.0180, -0.1239,  0.0080,  0.0411, -0.1093,  0.0685, -0.0579,\n",
              "          0.0995, -0.1153],\n",
              "        [-0.0602,  0.0233, -0.1251,  0.0094,  0.0413, -0.1102,  0.0689, -0.0579,\n",
              "          0.0981, -0.1108],\n",
              "        [-0.0569,  0.0186, -0.1222,  0.0113,  0.0481, -0.1074,  0.0658, -0.0616,\n",
              "          0.0989, -0.1091],\n",
              "        [-0.0616,  0.0186, -0.1262,  0.0096,  0.0438, -0.1096,  0.0663, -0.0550,\n",
              "          0.0952, -0.1092],\n",
              "        [-0.0625,  0.0171, -0.1156,  0.0019,  0.0462, -0.1108,  0.0696, -0.0546,\n",
              "          0.0952, -0.1098],\n",
              "        [-0.0589,  0.0172, -0.1193,  0.0021,  0.0454, -0.1108,  0.0677, -0.0556,\n",
              "          0.0948, -0.1097]])"
            ]
          },
          "metadata": {
            "tags": []
          },
          "execution_count": 37
        }
      ]
    },
    {
      "cell_type": "code",
      "metadata": {
        "id": "584r6cI9y6rB",
        "outputId": "61f616ea-a6cb-4b10-b137-5fdb34d41788",
        "colab": {
          "base_uri": "https://localhost:8080/"
        }
      },
      "source": [
        "preds.argmax(dim=1)"
      ],
      "execution_count": 38,
      "outputs": [
        {
          "output_type": "execute_result",
          "data": {
            "text/plain": [
              "tensor([8, 8, 8, 8, 8, 8, 8, 8, 8, 8])"
            ]
          },
          "metadata": {
            "tags": []
          },
          "execution_count": 38
        }
      ]
    },
    {
      "cell_type": "code",
      "metadata": {
        "id": "SRh84f4Fzn9U",
        "outputId": "b7d78cb4-a280-4a1d-8a3b-17cf18ea7722",
        "colab": {
          "base_uri": "https://localhost:8080/"
        }
      },
      "source": [
        "preds.argmax(dim=1).eq(labels)"
      ],
      "execution_count": 39,
      "outputs": [
        {
          "output_type": "execute_result",
          "data": {
            "text/plain": [
              "tensor([False, False, False, False, False, False, False, False, False, False])"
            ]
          },
          "metadata": {
            "tags": []
          },
          "execution_count": 39
        }
      ]
    },
    {
      "cell_type": "markdown",
      "metadata": {
        "id": "OULpKjJ4zs8h"
      },
      "source": [
        "Batch-1 Actual labels\n",
        "\n",
        "tensor([9, 0, 0, 3, 0, 2, 7, 2, 5, 5])"
      ]
    },
    {
      "cell_type": "code",
      "metadata": {
        "id": "6sDXFXeuzp1v",
        "outputId": "1d319c28-1516-4de2-850d-13856c3eef04",
        "colab": {
          "base_uri": "https://localhost:8080/"
        }
      },
      "source": [
        "preds.argmax(dim=1).eq(labels).sum()"
      ],
      "execution_count": 40,
      "outputs": [
        {
          "output_type": "execute_result",
          "data": {
            "text/plain": [
              "tensor(0)"
            ]
          },
          "metadata": {
            "tags": []
          },
          "execution_count": 40
        }
      ]
    },
    {
      "cell_type": "code",
      "metadata": {
        "id": "Uz3FUv77zril"
      },
      "source": [
        "def get_num_correct(preds, labels):\n",
        "  return preds.argmax(dim=1).eq(labels).sum().item()"
      ],
      "execution_count": 41,
      "outputs": []
    },
    {
      "cell_type": "code",
      "metadata": {
        "id": "MBgjSlAO0Dy8",
        "outputId": "ee22fdc8-5332-486d-e9f5-541197e7c9f7",
        "colab": {
          "base_uri": "https://localhost:8080/"
        }
      },
      "source": [
        "get_num_correct(preds, labels)"
      ],
      "execution_count": 42,
      "outputs": [
        {
          "output_type": "execute_result",
          "data": {
            "text/plain": [
              "0"
            ]
          },
          "metadata": {
            "tags": []
          },
          "execution_count": 42
        }
      ]
    },
    {
      "cell_type": "markdown",
      "metadata": {
        "id": "UaJNmTPF2Dvu"
      },
      "source": [
        "Training the Neural Network:\n",
        "\n",
        "During the entire training process, we do as many epochs as necessary to reach our desired level of accuracy. With this, we have the following steps:\n",
        "\n",
        "1. Get batch from the training set.\n",
        "2. Pass batch to network.\n",
        "3. Calculate the loss (difference between the predicted values and the true values).\n",
        "4. Calculate the gradient of the loss function w.r.t the network's weights.\n",
        "5. Update the weights using the gradients to reduce the loss.\n",
        "6. Repeat Step 1-5 for 1 epoch\n",
        "\n",
        "Repeat steps 1-6 for as many epochs required to reach the minimum loss."
      ]
    },
    {
      "cell_type": "code",
      "metadata": {
        "id": "KushhvVR0Fjm",
        "outputId": "160ccda9-ad68-4021-aeec-dd7314b5bfc9",
        "colab": {
          "base_uri": "https://localhost:8080/"
        }
      },
      "source": [
        "import torch.optim as optim\n",
        "torch.set_grad_enabled(True) # Enabling the Gradient, to calculate the weights and losses during the Training"
      ],
      "execution_count": 46,
      "outputs": [
        {
          "output_type": "execute_result",
          "data": {
            "text/plain": [
              "<torch.autograd.grad_mode.set_grad_enabled at 0x7fcd70e0f160>"
            ]
          },
          "metadata": {
            "tags": []
          },
          "execution_count": 46
        }
      ]
    },
    {
      "cell_type": "code",
      "metadata": {
        "id": "xNl2w5rg2-_m",
        "outputId": "f24f4f94-9da9-45ab-89c1-e1b4d94afd28",
        "colab": {
          "base_uri": "https://localhost:8080/"
        }
      },
      "source": [
        "preds = network(images)\n",
        "loss = F.cross_entropy(preds, labels)\n",
        "loss.item()"
      ],
      "execution_count": 47,
      "outputs": [
        {
          "output_type": "execute_result",
          "data": {
            "text/plain": [
              "0.4108503460884094"
            ]
          },
          "metadata": {
            "tags": []
          },
          "execution_count": 47
        }
      ]
    },
    {
      "cell_type": "code",
      "metadata": {
        "id": "lmX3mABY-xIZ",
        "outputId": "894b9c4e-4a01-47b1-b40f-ef4b04711ef5",
        "colab": {
          "base_uri": "https://localhost:8080/"
        }
      },
      "source": [
        "print(network.conv1.weight.grad) # currently there are no gradients"
      ],
      "execution_count": 48,
      "outputs": [
        {
          "output_type": "stream",
          "text": [
            "tensor([[[[-4.5554e-02, -8.1278e-03,  2.0720e-02,  5.0532e-05, -1.9347e-02],\n",
            "          [-1.7887e-02,  1.2773e-03,  1.8819e-02,  1.6537e-03, -9.4407e-04],\n",
            "          [-2.6078e-02, -1.5808e-06, -9.8512e-04,  9.7621e-03,  7.5890e-03],\n",
            "          [-2.9526e-02,  5.8620e-03,  3.8031e-02,  1.4704e-02,  5.0562e-02],\n",
            "          [-4.4065e-02, -1.7557e-02,  6.4156e-02,  3.5995e-02,  4.7536e-02]]],\n",
            "\n",
            "\n",
            "        [[[-7.1064e-03, -8.6988e-03, -4.2182e-03,  3.5202e-03,  1.6302e-02],\n",
            "          [ 2.9871e-03, -1.6721e-03, -2.5711e-03,  1.4360e-03,  6.5920e-03],\n",
            "          [ 3.3430e-03, -2.3192e-03, -7.3791e-03,  1.7482e-03,  8.1677e-03],\n",
            "          [ 4.0630e-03, -2.2341e-03, -6.0833e-03,  7.5855e-03,  8.9707e-03],\n",
            "          [ 2.3287e-03, -3.3164e-04,  1.0487e-03,  1.0518e-02,  1.6617e-02]]],\n",
            "\n",
            "\n",
            "        [[[ 2.1942e-02,  7.2879e-03, -3.1980e-03,  2.1540e-02,  4.2614e-02],\n",
            "          [ 1.6619e-02,  3.8741e-03,  2.7578e-02,  5.9055e-02,  4.8348e-02],\n",
            "          [ 2.1107e-02,  4.8402e-02,  4.9228e-02,  5.9019e-02,  4.7322e-02],\n",
            "          [ 3.2285e-02,  4.6583e-02,  4.6698e-02,  6.6230e-02,  7.3768e-02],\n",
            "          [ 2.3920e-02,  2.8805e-02,  4.1021e-02,  7.5464e-02,  7.7308e-02]]],\n",
            "\n",
            "\n",
            "        [[[ 1.6943e-01,  1.1204e-01,  8.3428e-02,  1.0677e-01,  9.4992e-02],\n",
            "          [ 1.7014e-01,  1.2651e-01,  8.6932e-02,  1.0582e-01,  1.0719e-01],\n",
            "          [ 1.3544e-01,  1.2135e-01,  5.7635e-02,  4.5670e-02,  9.3671e-02],\n",
            "          [ 8.1024e-02,  9.9153e-02,  3.7699e-02,  4.0363e-02,  4.7335e-02],\n",
            "          [ 9.8045e-02,  1.2471e-01,  8.6041e-02,  6.9788e-02,  6.2819e-02]]],\n",
            "\n",
            "\n",
            "        [[[ 3.7745e-04,  3.6710e-03, -5.4391e-03, -1.2474e-02, -9.3361e-03],\n",
            "          [ 5.5585e-04,  6.1966e-03, -1.8273e-04,  5.0962e-03,  8.8886e-03],\n",
            "          [ 1.2251e-03,  9.4182e-03,  6.7006e-03,  2.6274e-03, -8.3566e-03],\n",
            "          [-3.5649e-03,  1.0338e-02,  6.3823e-03,  1.1261e-02, -8.9440e-04],\n",
            "          [ 2.3915e-02,  9.3545e-03,  3.0717e-03,  3.0504e-03,  3.7386e-03]]],\n",
            "\n",
            "\n",
            "        [[[ 6.9944e-02,  4.4837e-02,  2.6033e-02,  1.8808e-02,  2.6418e-02],\n",
            "          [ 5.6902e-02,  1.7401e-02,  1.3291e-02, -1.0840e-02,  1.5782e-02],\n",
            "          [ 3.5271e-02, -1.3113e-02,  6.8248e-03, -1.5326e-02,  5.0012e-03],\n",
            "          [ 2.4585e-02, -1.7312e-02,  9.9667e-03, -1.2879e-02, -1.4605e-02],\n",
            "          [ 1.6976e-02, -1.0220e-02, -5.6196e-03, -3.0027e-02, -2.5835e-02]]]])\n"
          ],
          "name": "stdout"
        }
      ]
    },
    {
      "cell_type": "code",
      "metadata": {
        "id": "jvWNEgCI-xQI"
      },
      "source": [
        "loss.backward() #Backward propogation"
      ],
      "execution_count": null,
      "outputs": []
    },
    {
      "cell_type": "code",
      "metadata": {
        "id": "w9freIkw-xYS",
        "outputId": "dfdd2ca6-7845-4457-f87f-954d52f80a4a",
        "colab": {
          "base_uri": "https://localhost:8080/"
        }
      },
      "source": [
        "print(network.conv1.weight.grad) #Now we can see the gradients"
      ],
      "execution_count": 49,
      "outputs": [
        {
          "output_type": "stream",
          "text": [
            "tensor([[[[-4.5554e-02, -8.1278e-03,  2.0720e-02,  5.0532e-05, -1.9347e-02],\n",
            "          [-1.7887e-02,  1.2773e-03,  1.8819e-02,  1.6537e-03, -9.4407e-04],\n",
            "          [-2.6078e-02, -1.5808e-06, -9.8512e-04,  9.7621e-03,  7.5890e-03],\n",
            "          [-2.9526e-02,  5.8620e-03,  3.8031e-02,  1.4704e-02,  5.0562e-02],\n",
            "          [-4.4065e-02, -1.7557e-02,  6.4156e-02,  3.5995e-02,  4.7536e-02]]],\n",
            "\n",
            "\n",
            "        [[[-7.1064e-03, -8.6988e-03, -4.2182e-03,  3.5202e-03,  1.6302e-02],\n",
            "          [ 2.9871e-03, -1.6721e-03, -2.5711e-03,  1.4360e-03,  6.5920e-03],\n",
            "          [ 3.3430e-03, -2.3192e-03, -7.3791e-03,  1.7482e-03,  8.1677e-03],\n",
            "          [ 4.0630e-03, -2.2341e-03, -6.0833e-03,  7.5855e-03,  8.9707e-03],\n",
            "          [ 2.3287e-03, -3.3164e-04,  1.0487e-03,  1.0518e-02,  1.6617e-02]]],\n",
            "\n",
            "\n",
            "        [[[ 2.1942e-02,  7.2879e-03, -3.1980e-03,  2.1540e-02,  4.2614e-02],\n",
            "          [ 1.6619e-02,  3.8741e-03,  2.7578e-02,  5.9055e-02,  4.8348e-02],\n",
            "          [ 2.1107e-02,  4.8402e-02,  4.9228e-02,  5.9019e-02,  4.7322e-02],\n",
            "          [ 3.2285e-02,  4.6583e-02,  4.6698e-02,  6.6230e-02,  7.3768e-02],\n",
            "          [ 2.3920e-02,  2.8805e-02,  4.1021e-02,  7.5464e-02,  7.7308e-02]]],\n",
            "\n",
            "\n",
            "        [[[ 1.6943e-01,  1.1204e-01,  8.3428e-02,  1.0677e-01,  9.4992e-02],\n",
            "          [ 1.7014e-01,  1.2651e-01,  8.6932e-02,  1.0582e-01,  1.0719e-01],\n",
            "          [ 1.3544e-01,  1.2135e-01,  5.7635e-02,  4.5670e-02,  9.3671e-02],\n",
            "          [ 8.1024e-02,  9.9153e-02,  3.7699e-02,  4.0363e-02,  4.7335e-02],\n",
            "          [ 9.8045e-02,  1.2471e-01,  8.6041e-02,  6.9788e-02,  6.2819e-02]]],\n",
            "\n",
            "\n",
            "        [[[ 3.7745e-04,  3.6710e-03, -5.4391e-03, -1.2474e-02, -9.3361e-03],\n",
            "          [ 5.5585e-04,  6.1966e-03, -1.8273e-04,  5.0962e-03,  8.8886e-03],\n",
            "          [ 1.2251e-03,  9.4182e-03,  6.7006e-03,  2.6274e-03, -8.3566e-03],\n",
            "          [-3.5649e-03,  1.0338e-02,  6.3823e-03,  1.1261e-02, -8.9440e-04],\n",
            "          [ 2.3915e-02,  9.3545e-03,  3.0717e-03,  3.0504e-03,  3.7386e-03]]],\n",
            "\n",
            "\n",
            "        [[[ 6.9944e-02,  4.4837e-02,  2.6033e-02,  1.8808e-02,  2.6418e-02],\n",
            "          [ 5.6902e-02,  1.7401e-02,  1.3291e-02, -1.0840e-02,  1.5782e-02],\n",
            "          [ 3.5271e-02, -1.3113e-02,  6.8248e-03, -1.5326e-02,  5.0012e-03],\n",
            "          [ 2.4585e-02, -1.7312e-02,  9.9667e-03, -1.2879e-02, -1.4605e-02],\n",
            "          [ 1.6976e-02, -1.0220e-02, -5.6196e-03, -3.0027e-02, -2.5835e-02]]]])\n"
          ],
          "name": "stdout"
        }
      ]
    },
    {
      "cell_type": "code",
      "metadata": {
        "id": "nCVZZeWS_Bln",
        "outputId": "fa8c6f7e-5e24-4609-958b-07665449a218",
        "colab": {
          "base_uri": "https://localhost:8080/"
        }
      },
      "source": [
        "network.conv1.weight.grad.shape #6 kernels of size 5 x 5"
      ],
      "execution_count": 51,
      "outputs": [
        {
          "output_type": "execute_result",
          "data": {
            "text/plain": [
              "torch.Size([6, 1, 5, 5])"
            ]
          },
          "metadata": {
            "tags": []
          },
          "execution_count": 51
        }
      ]
    },
    {
      "cell_type": "code",
      "metadata": {
        "id": "tYPKLduN_CCP",
        "outputId": "56a42548-1d4b-4170-8000-bbf1747c16a8",
        "colab": {
          "base_uri": "https://localhost:8080/"
        }
      },
      "source": [
        "optimizer = optim.SGD(network.parameters(), lr=0.01)\n",
        "loss.item()"
      ],
      "execution_count": 52,
      "outputs": [
        {
          "output_type": "execute_result",
          "data": {
            "text/plain": [
              "0.4108503460884094"
            ]
          },
          "metadata": {
            "tags": []
          },
          "execution_count": 52
        }
      ]
    },
    {
      "cell_type": "code",
      "metadata": {
        "id": "qxS86RLG_CJQ",
        "outputId": "558273a0-3e1f-48a9-e6b4-8f0f2d0a0ba6",
        "colab": {
          "base_uri": "https://localhost:8080/"
        }
      },
      "source": [
        "get_num_correct(preds, labels)"
      ],
      "execution_count": 53,
      "outputs": [
        {
          "output_type": "execute_result",
          "data": {
            "text/plain": [
              "85"
            ]
          },
          "metadata": {
            "tags": []
          },
          "execution_count": 53
        }
      ]
    },
    {
      "cell_type": "code",
      "metadata": {
        "id": "ujPvrF5D_CTg"
      },
      "source": [
        "optimizer.step() #Weights get updated based on the Gradient"
      ],
      "execution_count": 55,
      "outputs": []
    },
    {
      "cell_type": "code",
      "metadata": {
        "id": "DSRFiG14_PVk",
        "outputId": "cc44f1cd-2230-4acd-f23b-edc9a5400c02",
        "colab": {
          "base_uri": "https://localhost:8080/"
        }
      },
      "source": [
        "preds = network(images)\n",
        "loss = F.cross_entropy(preds, labels)\n",
        "loss.item()"
      ],
      "execution_count": 56,
      "outputs": [
        {
          "output_type": "execute_result",
          "data": {
            "text/plain": [
              "0.39171966910362244"
            ]
          },
          "metadata": {
            "tags": []
          },
          "execution_count": 56
        }
      ]
    },
    {
      "cell_type": "code",
      "metadata": {
        "id": "uhlntieB_Pd9",
        "outputId": "e11a775b-6cb8-48e2-d576-07e004421650",
        "colab": {
          "base_uri": "https://localhost:8080/"
        }
      },
      "source": [
        "get_num_correct(preds, labels)"
      ],
      "execution_count": 57,
      "outputs": [
        {
          "output_type": "execute_result",
          "data": {
            "text/plain": [
              "85"
            ]
          },
          "metadata": {
            "tags": []
          },
          "execution_count": 57
        }
      ]
    },
    {
      "cell_type": "code",
      "metadata": {
        "id": "2ii8VMVJ_ZFY",
        "outputId": "2725c3ae-f8ec-4ce1-f446-b3ebaebe9839",
        "colab": {
          "base_uri": "https://localhost:8080/"
        }
      },
      "source": [
        "preds = network(images)\n",
        "loss = F.cross_entropy(preds, labels)\n",
        "print(loss.item(), get_num_correct(preds, labels))\n",
        "optimizer.step()"
      ],
      "execution_count": 58,
      "outputs": [
        {
          "output_type": "stream",
          "text": [
            "0.39171966910362244 85\n"
          ],
          "name": "stdout"
        }
      ]
    },
    {
      "cell_type": "code",
      "metadata": {
        "id": "zJKaGASv_ZND",
        "outputId": "a3928e37-a6b6-42da-c399-15b24c46742b",
        "colab": {
          "base_uri": "https://localhost:8080/"
        }
      },
      "source": [
        "preds = network(images)\n",
        "loss = F.cross_entropy(preds, labels)\n",
        "print(loss.item(), get_num_correct(preds, labels))\n",
        "optimizer.step()"
      ],
      "execution_count": 59,
      "outputs": [
        {
          "output_type": "stream",
          "text": [
            "0.38243651390075684 85\n"
          ],
          "name": "stdout"
        }
      ]
    },
    {
      "cell_type": "code",
      "metadata": {
        "id": "GVJ31vZA_ZRI",
        "outputId": "c34b10db-6a89-4f4b-d150-6da0f79343fb",
        "colab": {
          "base_uri": "https://localhost:8080/"
        }
      },
      "source": [
        "preds = network(images)\n",
        "loss = F.cross_entropy(preds, labels)\n",
        "print(loss.item(), get_num_correct(preds, labels))\n",
        "optimizer.step()"
      ],
      "execution_count": 60,
      "outputs": [
        {
          "output_type": "stream",
          "text": [
            "0.37305358052253723 85\n"
          ],
          "name": "stdout"
        }
      ]
    },
    {
      "cell_type": "markdown",
      "metadata": {
        "id": "P1fMyu7E_lYY"
      },
      "source": [
        "For more than One Epoch\n",
        "\n",
        "- Number of Batches 600\n",
        "- 1 Batch Contains 100 Images\n",
        "- Total = 600 * 100 = 60000 Images\n",
        "\n",
        "all together the training is done for 10 epochs"
      ]
    },
    {
      "cell_type": "code",
      "metadata": {
        "id": "hbIOQW0C_ZKW",
        "outputId": "c94f6788-348a-4d25-895f-8d18619d6a4b",
        "colab": {
          "base_uri": "https://localhost:8080/"
        }
      },
      "source": [
        "train_loader = torch.utils.data.DataLoader(train_set, batch_size=100)\n",
        "optimizer = optim.Adam(network.parameters(), lr=0.01)\n",
        "\n",
        "for epoch in range(10):\n",
        "    total_loss = 0\n",
        "    total_correct = 0\n",
        "\n",
        "    for batch in train_loader: # Get Batch #Getting a batch of 100 images\n",
        "        images, labels = batch # The total number of Images is 100, Labels is 100\n",
        "        # Shape of the Image is (100, 1, 28, 28) 100 is total images in the batch, 1 is the channel size, 28 X 28 is the H X W of an image\n",
        "        preds = network(images) # Pass Batch total of 100 images\n",
        "        # Shape of the Preds is ([100, 10]) 100 rows of 10 classes (labels)\n",
        "        loss = F.cross_entropy(preds, labels) # Calculate Loss. BY passing the 'Prdictions - 100' and Actual 'Labels - 100'\n",
        "\n",
        "        optimizer.zero_grad() # Asking the network to clear the previously stored gradients\n",
        "        loss.backward() # Calculate Gradients\n",
        "        optimizer.step() # Update Weights\n",
        "\n",
        "        total_loss += loss.item()\n",
        "        total_correct += get_num_correct(preds, labels)\n",
        "\n",
        "        batchCounter += 1\n",
        "\n",
        "    print(\n",
        "        \"epoch\", epoch, \n",
        "        \"total_correct:\", total_correct, \n",
        "        \"loss:\", total_loss\n",
        "    )"
      ],
      "execution_count": 68,
      "outputs": [
        {
          "output_type": "stream",
          "text": [
            "epoch 0 total_correct: 53286 loss: 194.40297675132751\n",
            "epoch 1 total_correct: 53767 loss: 173.87910921871662\n",
            "epoch 2 total_correct: 53976 loss: 163.18272931873798\n",
            "epoch 3 total_correct: 53480 loss: 182.08285769075155\n",
            "epoch 4 total_correct: 53920 loss: 165.84323486685753\n",
            "epoch 5 total_correct: 53953 loss: 165.24212615936995\n",
            "epoch 6 total_correct: 53737 loss: 174.59074488282204\n",
            "epoch 7 total_correct: 54095 loss: 159.9184528440237\n",
            "epoch 8 total_correct: 53629 loss: 176.3818168118596\n",
            "epoch 9 total_correct: 54072 loss: 160.60015588253736\n"
          ],
          "name": "stdout"
        }
      ]
    },
    {
      "cell_type": "code",
      "metadata": {
        "id": "34uagsYZEtGU"
      },
      "source": [
        ""
      ],
      "execution_count": null,
      "outputs": []
    }
  ]
}